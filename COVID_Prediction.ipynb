{
  "nbformat": 4,
  "nbformat_minor": 0,
  "metadata": {
    "colab": {
      "name": "CCOVID-Prediction.ipynb",
      "provenance": [],
      "collapsed_sections": []
    },
    "kernelspec": {
      "name": "python3",
      "display_name": "Python 3"
    }
  },
  "cells": [
    {
      "cell_type": "markdown",
      "metadata": {
        "id": "63QpiHg5uiY_"
      },
      "source": [
        "# Draft"
      ]
    },
    {
      "cell_type": "markdown",
      "metadata": {
        "id": "Y5BFVIVM9O_F"
      },
      "source": [
        "# **Final Project: Tracking covid-19 vaccination to predict when the United states will able to get back to Normal again.**"
      ]
    },
    {
      "cell_type": "markdown",
      "metadata": {
        "id": "BUPxaqk1yG_3"
      },
      "source": [
        "# Importing Needed Libraires for the project"
      ]
    },
    {
      "cell_type": "code",
      "metadata": {
        "id": "z8A0qFvXUdT2"
      },
      "source": [
        "import numpy as np\n",
        "import pandas as pd\n",
        "import seaborn as sns\n",
        "import matplotlib.pyplot as plt\n",
        "%matplotlib inline\n",
        "import datetime as dt"
      ],
      "execution_count": null,
      "outputs": []
    },
    {
      "cell_type": "markdown",
      "metadata": {
        "id": "BAu5E2Q3-KpZ"
      },
      "source": [
        "# Loading the Dataset"
      ]
    },
    {
      "cell_type": "code",
      "metadata": {
        "id": "p1W8WoxHU912"
      },
      "source": [
        "url = '/content/country_vaccinations.csv'"
      ],
      "execution_count": null,
      "outputs": []
    },
    {
      "cell_type": "code",
      "metadata": {
        "colab": {
          "base_uri": "https://localhost:8080/",
          "height": 391
        },
        "id": "5Y-4fWeeVeNk",
        "outputId": "885f706a-7e27-4dde-8e00-57c6655e501b"
      },
      "source": [
        "df = pd.read_csv(url)\n",
        "df.head()\n"
      ],
      "execution_count": null,
      "outputs": [
        {
          "output_type": "execute_result",
          "data": {
            "text/html": [
              "<div>\n",
              "<style scoped>\n",
              "    .dataframe tbody tr th:only-of-type {\n",
              "        vertical-align: middle;\n",
              "    }\n",
              "\n",
              "    .dataframe tbody tr th {\n",
              "        vertical-align: top;\n",
              "    }\n",
              "\n",
              "    .dataframe thead th {\n",
              "        text-align: right;\n",
              "    }\n",
              "</style>\n",
              "<table border=\"1\" class=\"dataframe\">\n",
              "  <thead>\n",
              "    <tr style=\"text-align: right;\">\n",
              "      <th></th>\n",
              "      <th>country</th>\n",
              "      <th>iso_code</th>\n",
              "      <th>date</th>\n",
              "      <th>total_vaccinations</th>\n",
              "      <th>people_vaccinated</th>\n",
              "      <th>people_fully_vaccinated</th>\n",
              "      <th>daily_vaccinations_raw</th>\n",
              "      <th>daily_vaccinations</th>\n",
              "      <th>total_vaccinations_per_hundred</th>\n",
              "      <th>people_vaccinated_per_hundred</th>\n",
              "      <th>people_fully_vaccinated_per_hundred</th>\n",
              "      <th>daily_vaccinations_per_million</th>\n",
              "      <th>vaccines</th>\n",
              "      <th>source_name</th>\n",
              "      <th>source_website</th>\n",
              "    </tr>\n",
              "  </thead>\n",
              "  <tbody>\n",
              "    <tr>\n",
              "      <th>0</th>\n",
              "      <td>Afghanistan</td>\n",
              "      <td>AFG</td>\n",
              "      <td>2021-02-22</td>\n",
              "      <td>0.0</td>\n",
              "      <td>0.0</td>\n",
              "      <td>NaN</td>\n",
              "      <td>NaN</td>\n",
              "      <td>NaN</td>\n",
              "      <td>0.0</td>\n",
              "      <td>0.0</td>\n",
              "      <td>NaN</td>\n",
              "      <td>NaN</td>\n",
              "      <td>Oxford/AstraZeneca</td>\n",
              "      <td>Government of Afghanistan</td>\n",
              "      <td>https://reliefweb.int/report/afghanistan/afgha...</td>\n",
              "    </tr>\n",
              "    <tr>\n",
              "      <th>1</th>\n",
              "      <td>Afghanistan</td>\n",
              "      <td>AFG</td>\n",
              "      <td>2021-02-23</td>\n",
              "      <td>NaN</td>\n",
              "      <td>NaN</td>\n",
              "      <td>NaN</td>\n",
              "      <td>NaN</td>\n",
              "      <td>1367.0</td>\n",
              "      <td>NaN</td>\n",
              "      <td>NaN</td>\n",
              "      <td>NaN</td>\n",
              "      <td>35.0</td>\n",
              "      <td>Oxford/AstraZeneca</td>\n",
              "      <td>Government of Afghanistan</td>\n",
              "      <td>https://reliefweb.int/report/afghanistan/afgha...</td>\n",
              "    </tr>\n",
              "    <tr>\n",
              "      <th>2</th>\n",
              "      <td>Afghanistan</td>\n",
              "      <td>AFG</td>\n",
              "      <td>2021-02-24</td>\n",
              "      <td>NaN</td>\n",
              "      <td>NaN</td>\n",
              "      <td>NaN</td>\n",
              "      <td>NaN</td>\n",
              "      <td>1367.0</td>\n",
              "      <td>NaN</td>\n",
              "      <td>NaN</td>\n",
              "      <td>NaN</td>\n",
              "      <td>35.0</td>\n",
              "      <td>Oxford/AstraZeneca</td>\n",
              "      <td>Government of Afghanistan</td>\n",
              "      <td>https://reliefweb.int/report/afghanistan/afgha...</td>\n",
              "    </tr>\n",
              "    <tr>\n",
              "      <th>3</th>\n",
              "      <td>Afghanistan</td>\n",
              "      <td>AFG</td>\n",
              "      <td>2021-02-25</td>\n",
              "      <td>NaN</td>\n",
              "      <td>NaN</td>\n",
              "      <td>NaN</td>\n",
              "      <td>NaN</td>\n",
              "      <td>1367.0</td>\n",
              "      <td>NaN</td>\n",
              "      <td>NaN</td>\n",
              "      <td>NaN</td>\n",
              "      <td>35.0</td>\n",
              "      <td>Oxford/AstraZeneca</td>\n",
              "      <td>Government of Afghanistan</td>\n",
              "      <td>https://reliefweb.int/report/afghanistan/afgha...</td>\n",
              "    </tr>\n",
              "    <tr>\n",
              "      <th>4</th>\n",
              "      <td>Afghanistan</td>\n",
              "      <td>AFG</td>\n",
              "      <td>2021-02-26</td>\n",
              "      <td>NaN</td>\n",
              "      <td>NaN</td>\n",
              "      <td>NaN</td>\n",
              "      <td>NaN</td>\n",
              "      <td>1367.0</td>\n",
              "      <td>NaN</td>\n",
              "      <td>NaN</td>\n",
              "      <td>NaN</td>\n",
              "      <td>35.0</td>\n",
              "      <td>Oxford/AstraZeneca</td>\n",
              "      <td>Government of Afghanistan</td>\n",
              "      <td>https://reliefweb.int/report/afghanistan/afgha...</td>\n",
              "    </tr>\n",
              "  </tbody>\n",
              "</table>\n",
              "</div>"
            ],
            "text/plain": [
              "       country  ...                                     source_website\n",
              "0  Afghanistan  ...  https://reliefweb.int/report/afghanistan/afgha...\n",
              "1  Afghanistan  ...  https://reliefweb.int/report/afghanistan/afgha...\n",
              "2  Afghanistan  ...  https://reliefweb.int/report/afghanistan/afgha...\n",
              "3  Afghanistan  ...  https://reliefweb.int/report/afghanistan/afgha...\n",
              "4  Afghanistan  ...  https://reliefweb.int/report/afghanistan/afgha...\n",
              "\n",
              "[5 rows x 15 columns]"
            ]
          },
          "metadata": {
            "tags": []
          },
          "execution_count": 3
        }
      ]
    },
    {
      "cell_type": "markdown",
      "metadata": {
        "id": "h0Ydp684-Xbm"
      },
      "source": [
        "# Exploring the Data "
      ]
    },
    {
      "cell_type": "code",
      "metadata": {
        "colab": {
          "base_uri": "https://localhost:8080/"
        },
        "id": "e8-vsYN2njnJ",
        "outputId": "c6a85c18-c428-43d5-955e-b6722f2f6310"
      },
      "source": [
        "#Checking the Dimension of the Data before \n",
        "df.shape"
      ],
      "execution_count": null,
      "outputs": [
        {
          "output_type": "execute_result",
          "data": {
            "text/plain": [
              "(15666, 15)"
            ]
          },
          "metadata": {
            "tags": []
          },
          "execution_count": 4
        }
      ]
    },
    {
      "cell_type": "code",
      "metadata": {
        "colab": {
          "base_uri": "https://localhost:8080/",
          "height": 308
        },
        "id": "lV4B4T09AiSM",
        "outputId": "9784e4b6-cc06-4409-9fb2-9006f40a3289"
      },
      "source": [
        "# Getting the basic info\n",
        "df.describe()"
      ],
      "execution_count": null,
      "outputs": [
        {
          "output_type": "execute_result",
          "data": {
            "text/html": [
              "<div>\n",
              "<style scoped>\n",
              "    .dataframe tbody tr th:only-of-type {\n",
              "        vertical-align: middle;\n",
              "    }\n",
              "\n",
              "    .dataframe tbody tr th {\n",
              "        vertical-align: top;\n",
              "    }\n",
              "\n",
              "    .dataframe thead th {\n",
              "        text-align: right;\n",
              "    }\n",
              "</style>\n",
              "<table border=\"1\" class=\"dataframe\">\n",
              "  <thead>\n",
              "    <tr style=\"text-align: right;\">\n",
              "      <th></th>\n",
              "      <th>total_vaccinations</th>\n",
              "      <th>people_vaccinated</th>\n",
              "      <th>people_fully_vaccinated</th>\n",
              "      <th>daily_vaccinations_raw</th>\n",
              "      <th>daily_vaccinations</th>\n",
              "      <th>total_vaccinations_per_hundred</th>\n",
              "      <th>people_vaccinated_per_hundred</th>\n",
              "      <th>people_fully_vaccinated_per_hundred</th>\n",
              "      <th>daily_vaccinations_per_million</th>\n",
              "    </tr>\n",
              "  </thead>\n",
              "  <tbody>\n",
              "    <tr>\n",
              "      <th>count</th>\n",
              "      <td>9.437000e+03</td>\n",
              "      <td>8.754000e+03</td>\n",
              "      <td>6.502000e+03</td>\n",
              "      <td>7.928000e+03</td>\n",
              "      <td>1.546500e+04</td>\n",
              "      <td>9437.000000</td>\n",
              "      <td>8754.000000</td>\n",
              "      <td>6502.000000</td>\n",
              "      <td>15465.000000</td>\n",
              "    </tr>\n",
              "    <tr>\n",
              "      <th>mean</th>\n",
              "      <td>5.250013e+06</td>\n",
              "      <td>3.302754e+06</td>\n",
              "      <td>1.672178e+06</td>\n",
              "      <td>1.371965e+05</td>\n",
              "      <td>7.948445e+04</td>\n",
              "      <td>16.130694</td>\n",
              "      <td>11.678865</td>\n",
              "      <td>5.945094</td>\n",
              "      <td>3007.500873</td>\n",
              "    </tr>\n",
              "    <tr>\n",
              "      <th>std</th>\n",
              "      <td>2.163269e+07</td>\n",
              "      <td>1.233716e+07</td>\n",
              "      <td>7.225403e+06</td>\n",
              "      <td>5.294140e+05</td>\n",
              "      <td>3.641596e+05</td>\n",
              "      <td>23.841769</td>\n",
              "      <td>15.622004</td>\n",
              "      <td>10.306655</td>\n",
              "      <td>4693.064582</td>\n",
              "    </tr>\n",
              "    <tr>\n",
              "      <th>min</th>\n",
              "      <td>0.000000e+00</td>\n",
              "      <td>0.000000e+00</td>\n",
              "      <td>1.000000e+00</td>\n",
              "      <td>0.000000e+00</td>\n",
              "      <td>0.000000e+00</td>\n",
              "      <td>0.000000</td>\n",
              "      <td>0.000000</td>\n",
              "      <td>0.000000</td>\n",
              "      <td>0.000000</td>\n",
              "    </tr>\n",
              "    <tr>\n",
              "      <th>25%</th>\n",
              "      <td>6.306400e+04</td>\n",
              "      <td>5.403675e+04</td>\n",
              "      <td>2.461400e+04</td>\n",
              "      <td>3.071750e+03</td>\n",
              "      <td>9.100000e+02</td>\n",
              "      <td>1.400000</td>\n",
              "      <td>1.312500</td>\n",
              "      <td>0.660000</td>\n",
              "      <td>356.000000</td>\n",
              "    </tr>\n",
              "    <tr>\n",
              "      <th>50%</th>\n",
              "      <td>4.462850e+05</td>\n",
              "      <td>3.398010e+05</td>\n",
              "      <td>1.818105e+05</td>\n",
              "      <td>1.613000e+04</td>\n",
              "      <td>6.495000e+03</td>\n",
              "      <td>6.650000</td>\n",
              "      <td>5.130000</td>\n",
              "      <td>2.480000</td>\n",
              "      <td>1504.000000</td>\n",
              "    </tr>\n",
              "    <tr>\n",
              "      <th>75%</th>\n",
              "      <td>2.003211e+06</td>\n",
              "      <td>1.387596e+06</td>\n",
              "      <td>7.228470e+05</td>\n",
              "      <td>6.386600e+04</td>\n",
              "      <td>3.003600e+04</td>\n",
              "      <td>20.850000</td>\n",
              "      <td>15.510000</td>\n",
              "      <td>6.760000</td>\n",
              "      <td>4020.000000</td>\n",
              "    </tr>\n",
              "    <tr>\n",
              "      <th>max</th>\n",
              "      <td>2.977340e+08</td>\n",
              "      <td>1.494623e+08</td>\n",
              "      <td>1.089266e+08</td>\n",
              "      <td>1.160100e+07</td>\n",
              "      <td>7.205286e+06</td>\n",
              "      <td>215.710000</td>\n",
              "      <td>112.750000</td>\n",
              "      <td>102.950000</td>\n",
              "      <td>118759.000000</td>\n",
              "    </tr>\n",
              "  </tbody>\n",
              "</table>\n",
              "</div>"
            ],
            "text/plain": [
              "       total_vaccinations  ...  daily_vaccinations_per_million\n",
              "count        9.437000e+03  ...                    15465.000000\n",
              "mean         5.250013e+06  ...                     3007.500873\n",
              "std          2.163269e+07  ...                     4693.064582\n",
              "min          0.000000e+00  ...                        0.000000\n",
              "25%          6.306400e+04  ...                      356.000000\n",
              "50%          4.462850e+05  ...                     1504.000000\n",
              "75%          2.003211e+06  ...                     4020.000000\n",
              "max          2.977340e+08  ...                   118759.000000\n",
              "\n",
              "[8 rows x 9 columns]"
            ]
          },
          "metadata": {
            "tags": []
          },
          "execution_count": 5
        }
      ]
    },
    {
      "cell_type": "code",
      "metadata": {
        "colab": {
          "base_uri": "https://localhost:8080/",
          "height": 305
        },
        "id": "h8IR_dDl3_1V",
        "outputId": "4f076ee6-cbdc-47b1-a1e0-59aba844edf9"
      },
      "source": [
        "df.tail()"
      ],
      "execution_count": null,
      "outputs": [
        {
          "output_type": "execute_result",
          "data": {
            "text/html": [
              "<div>\n",
              "<style scoped>\n",
              "    .dataframe tbody tr th:only-of-type {\n",
              "        vertical-align: middle;\n",
              "    }\n",
              "\n",
              "    .dataframe tbody tr th {\n",
              "        vertical-align: top;\n",
              "    }\n",
              "\n",
              "    .dataframe thead th {\n",
              "        text-align: right;\n",
              "    }\n",
              "</style>\n",
              "<table border=\"1\" class=\"dataframe\">\n",
              "  <thead>\n",
              "    <tr style=\"text-align: right;\">\n",
              "      <th></th>\n",
              "      <th>country</th>\n",
              "      <th>iso_code</th>\n",
              "      <th>date</th>\n",
              "      <th>total_vaccinations</th>\n",
              "      <th>people_vaccinated</th>\n",
              "      <th>people_fully_vaccinated</th>\n",
              "      <th>daily_vaccinations_raw</th>\n",
              "      <th>daily_vaccinations</th>\n",
              "      <th>total_vaccinations_per_hundred</th>\n",
              "      <th>people_vaccinated_per_hundred</th>\n",
              "      <th>people_fully_vaccinated_per_hundred</th>\n",
              "      <th>daily_vaccinations_per_million</th>\n",
              "      <th>vaccines</th>\n",
              "      <th>source_name</th>\n",
              "      <th>source_website</th>\n",
              "    </tr>\n",
              "  </thead>\n",
              "  <tbody>\n",
              "    <tr>\n",
              "      <th>15661</th>\n",
              "      <td>Zimbabwe</td>\n",
              "      <td>ZWE</td>\n",
              "      <td>2021-05-02</td>\n",
              "      <td>524199.0</td>\n",
              "      <td>430068.0</td>\n",
              "      <td>94131.0</td>\n",
              "      <td>3900.0</td>\n",
              "      <td>19169.0</td>\n",
              "      <td>3.53</td>\n",
              "      <td>2.89</td>\n",
              "      <td>0.63</td>\n",
              "      <td>1290.0</td>\n",
              "      <td>Sinopharm/Beijing</td>\n",
              "      <td>Ministry of Health</td>\n",
              "      <td>https://twitter.com/MoHCCZim/status/1390390738...</td>\n",
              "    </tr>\n",
              "    <tr>\n",
              "      <th>15662</th>\n",
              "      <td>Zimbabwe</td>\n",
              "      <td>ZWE</td>\n",
              "      <td>2021-05-03</td>\n",
              "      <td>537516.0</td>\n",
              "      <td>437751.0</td>\n",
              "      <td>99765.0</td>\n",
              "      <td>13317.0</td>\n",
              "      <td>17987.0</td>\n",
              "      <td>3.62</td>\n",
              "      <td>2.95</td>\n",
              "      <td>0.67</td>\n",
              "      <td>1210.0</td>\n",
              "      <td>Sinopharm/Beijing</td>\n",
              "      <td>Ministry of Health</td>\n",
              "      <td>https://twitter.com/MoHCCZim/status/1390390738...</td>\n",
              "    </tr>\n",
              "    <tr>\n",
              "      <th>15663</th>\n",
              "      <td>Zimbabwe</td>\n",
              "      <td>ZWE</td>\n",
              "      <td>2021-05-04</td>\n",
              "      <td>559777.0</td>\n",
              "      <td>452191.0</td>\n",
              "      <td>107586.0</td>\n",
              "      <td>22261.0</td>\n",
              "      <td>17977.0</td>\n",
              "      <td>3.77</td>\n",
              "      <td>3.04</td>\n",
              "      <td>0.72</td>\n",
              "      <td>1210.0</td>\n",
              "      <td>Sinopharm/Beijing</td>\n",
              "      <td>Ministry of Health</td>\n",
              "      <td>https://twitter.com/MoHCCZim/status/1390390738...</td>\n",
              "    </tr>\n",
              "    <tr>\n",
              "      <th>15664</th>\n",
              "      <td>Zimbabwe</td>\n",
              "      <td>ZWE</td>\n",
              "      <td>2021-05-05</td>\n",
              "      <td>576233.0</td>\n",
              "      <td>461023.0</td>\n",
              "      <td>115210.0</td>\n",
              "      <td>16456.0</td>\n",
              "      <td>16889.0</td>\n",
              "      <td>3.88</td>\n",
              "      <td>3.10</td>\n",
              "      <td>0.78</td>\n",
              "      <td>1136.0</td>\n",
              "      <td>Sinopharm/Beijing</td>\n",
              "      <td>Ministry of Health</td>\n",
              "      <td>https://twitter.com/MoHCCZim/status/1390390738...</td>\n",
              "    </tr>\n",
              "    <tr>\n",
              "      <th>15665</th>\n",
              "      <td>Zimbabwe</td>\n",
              "      <td>ZWE</td>\n",
              "      <td>2021-05-06</td>\n",
              "      <td>607355.0</td>\n",
              "      <td>478174.0</td>\n",
              "      <td>129181.0</td>\n",
              "      <td>31122.0</td>\n",
              "      <td>18537.0</td>\n",
              "      <td>4.09</td>\n",
              "      <td>3.22</td>\n",
              "      <td>0.87</td>\n",
              "      <td>1247.0</td>\n",
              "      <td>Sinopharm/Beijing</td>\n",
              "      <td>Ministry of Health</td>\n",
              "      <td>https://twitter.com/MoHCCZim/status/1390390738...</td>\n",
              "    </tr>\n",
              "  </tbody>\n",
              "</table>\n",
              "</div>"
            ],
            "text/plain": [
              "        country  ...                                     source_website\n",
              "15661  Zimbabwe  ...  https://twitter.com/MoHCCZim/status/1390390738...\n",
              "15662  Zimbabwe  ...  https://twitter.com/MoHCCZim/status/1390390738...\n",
              "15663  Zimbabwe  ...  https://twitter.com/MoHCCZim/status/1390390738...\n",
              "15664  Zimbabwe  ...  https://twitter.com/MoHCCZim/status/1390390738...\n",
              "15665  Zimbabwe  ...  https://twitter.com/MoHCCZim/status/1390390738...\n",
              "\n",
              "[5 rows x 15 columns]"
            ]
          },
          "metadata": {
            "tags": []
          },
          "execution_count": 6
        }
      ]
    },
    {
      "cell_type": "code",
      "metadata": {
        "colab": {
          "base_uri": "https://localhost:8080/"
        },
        "id": "crcoID_H_g4J",
        "outputId": "82d467f2-82fe-4f39-f776-68b629438222"
      },
      "source": [
        "df.columns\n"
      ],
      "execution_count": null,
      "outputs": [
        {
          "output_type": "execute_result",
          "data": {
            "text/plain": [
              "Index(['country', 'iso_code', 'date', 'total_vaccinations',\n",
              "       'people_vaccinated', 'people_fully_vaccinated',\n",
              "       'daily_vaccinations_raw', 'daily_vaccinations',\n",
              "       'total_vaccinations_per_hundred', 'people_vaccinated_per_hundred',\n",
              "       'people_fully_vaccinated_per_hundred', 'daily_vaccinations_per_million',\n",
              "       'vaccines', 'source_name', 'source_website'],\n",
              "      dtype='object')"
            ]
          },
          "metadata": {
            "tags": []
          },
          "execution_count": 7
        }
      ]
    },
    {
      "cell_type": "code",
      "metadata": {
        "colab": {
          "base_uri": "https://localhost:8080/"
        },
        "id": "XbAZck7fEtsb",
        "outputId": "fba30b51-be07-4695-ffe7-7e68ec93f356"
      },
      "source": [
        "# How many countries are we dealing with?\n",
        "\n",
        "df['country'].nunique()"
      ],
      "execution_count": null,
      "outputs": [
        {
          "output_type": "execute_result",
          "data": {
            "text/plain": [
              "196"
            ]
          },
          "metadata": {
            "tags": []
          },
          "execution_count": 8
        }
      ]
    },
    {
      "cell_type": "markdown",
      "metadata": {
        "id": "DrBVFfvkBq_E"
      },
      "source": [
        "# Let's check out the vaccines for a moment"
      ]
    },
    {
      "cell_type": "code",
      "metadata": {
        "colab": {
          "base_uri": "https://localhost:8080/"
        },
        "id": "5Zl9OD2NI3mS",
        "outputId": "bb659266-7374-4084-e2c5-7f1c416155fd"
      },
      "source": [
        "df['vaccines'].value_counts()"
      ],
      "execution_count": null,
      "outputs": [
        {
          "output_type": "execute_result",
          "data": {
            "text/plain": [
              "Oxford/AstraZeneca                                                                    2607\n",
              "Moderna, Oxford/AstraZeneca, Pfizer/BioNTech                                          2389\n",
              "Johnson&Johnson, Moderna, Oxford/AstraZeneca, Pfizer/BioNTech                         1532\n",
              "Oxford/AstraZeneca, Pfizer/BioNTech                                                   1418\n",
              "Pfizer/BioNTech                                                                       1227\n",
              "Moderna, Pfizer/BioNTech                                                               604\n",
              "Oxford/AstraZeneca, Sinopharm/Beijing                                                  587\n",
              "Oxford/AstraZeneca, Pfizer/BioNTech, Sinovac                                           499\n",
              "Oxford/AstraZeneca, Pfizer/BioNTech, Sinopharm/Beijing, Sputnik V                      487\n",
              "Oxford/AstraZeneca, Sinovac                                                            472\n",
              "Sputnik V                                                                              438\n",
              "Pfizer/BioNTech, Sinovac                                                               391\n",
              "Oxford/AstraZeneca, Sinopharm/Beijing, Sputnik V                                       311\n",
              "Sinopharm/Beijing                                                                      310\n",
              "Oxford/AstraZeneca, Pfizer/BioNTech, Sinopharm/Beijing                                 242\n",
              "Pfizer/BioNTech, Sinopharm/Beijing                                                     201\n",
              "Oxford/AstraZeneca, Pfizer/BioNTech, Sinovac, Sputnik V                                193\n",
              "Oxford/AstraZeneca, Sinopharm/Beijing, Sinovac                                         167\n",
              "Sinopharm/Beijing, Sinopharm/Wuhan, Sinovac                                            143\n",
              "EpiVacCorona, Sputnik V                                                                143\n",
              "Johnson&Johnson, Moderna, Pfizer/BioNTech                                              138\n",
              "CanSino, Oxford/AstraZeneca, Pfizer/BioNTech, Sinovac, Sputnik V                       133\n",
              "Moderna, Oxford/AstraZeneca, Pfizer/BioNTech, Sinopharm/Beijing, Sputnik V             129\n",
              "Oxford/AstraZeneca, Pfizer/BioNTech, Sinopharm/Beijing, Sinopharm/Wuhan, Sputnik V     122\n",
              "Covaxin, Oxford/AstraZeneca                                                            112\n",
              "Moderna, Oxford/AstraZeneca                                                            111\n",
              "Oxford/AstraZeneca, Sputnik V                                                          111\n",
              "CanSino, Sinopharm/Beijing, Sinovac, Sputnik V                                          93\n",
              "Johnson&Johnson                                                                         79\n",
              "Oxford/AstraZeneca, Pfizer/BioNTech, Sputnik V                                          79\n",
              "Sinopharm/Beijing, Sputnik V                                                            74\n",
              "Pfizer/BioNTech, Sputnik V                                                              68\n",
              "Pfizer/BioNTech, Sinovac, Sputnik V                                                     55\n",
              "Oxford/AstraZeneca, Sinovac, Sputnik V                                                   1\n",
              "Name: vaccines, dtype: int64"
            ]
          },
          "metadata": {
            "tags": []
          },
          "execution_count": 9
        }
      ]
    },
    {
      "cell_type": "code",
      "metadata": {
        "colab": {
          "base_uri": "https://localhost:8080/"
        },
        "id": "z2U1GhLkGkdn",
        "outputId": "1d4fc9f6-64fa-451e-e22e-f4c4353dcd0a"
      },
      "source": [
        "df[['vaccines', 'country']].value_counts()"
      ],
      "execution_count": null,
      "outputs": [
        {
          "output_type": "execute_result",
          "data": {
            "text/plain": [
              "vaccines                                      country      \n",
              "Moderna, Oxford/AstraZeneca, Pfizer/BioNTech  Canada           144\n",
              "Sinopharm/Beijing, Sinopharm/Wuhan, Sinovac   China            143\n",
              "EpiVacCorona, Sputnik V                       Russia           143\n",
              "Moderna, Pfizer/BioNTech                      Israel           139\n",
              "Johnson&Johnson, Moderna, Pfizer/BioNTech     United States    138\n",
              "                                                              ... \n",
              "Oxford/AstraZeneca                            Djibouti           1\n",
              "Oxford/AstraZeneca, Sinopharm/Beijing         Somalia            1\n",
              "Sputnik V                                     Armenia            1\n",
              "Oxford/AstraZeneca                            Timor              1\n",
              "Oxford/AstraZeneca, Sinovac, Sputnik V        Libya              1\n",
              "Length: 196, dtype: int64"
            ]
          },
          "metadata": {
            "tags": []
          },
          "execution_count": 10
        }
      ]
    },
    {
      "cell_type": "code",
      "metadata": {
        "colab": {
          "base_uri": "https://localhost:8080/",
          "height": 682
        },
        "id": "NwjUu3GKHZIZ",
        "outputId": "71aeae4f-1a16-4b0a-8780-f99e75445628"
      },
      "source": [
        "df.groupby('country').max()\n",
        "# MAX_[MAX_['country']=='United States']\n",
        "# MAX_['United States']"
      ],
      "execution_count": null,
      "outputs": [
        {
          "output_type": "execute_result",
          "data": {
            "text/html": [
              "<div>\n",
              "<style scoped>\n",
              "    .dataframe tbody tr th:only-of-type {\n",
              "        vertical-align: middle;\n",
              "    }\n",
              "\n",
              "    .dataframe tbody tr th {\n",
              "        vertical-align: top;\n",
              "    }\n",
              "\n",
              "    .dataframe thead th {\n",
              "        text-align: right;\n",
              "    }\n",
              "</style>\n",
              "<table border=\"1\" class=\"dataframe\">\n",
              "  <thead>\n",
              "    <tr style=\"text-align: right;\">\n",
              "      <th></th>\n",
              "      <th>iso_code</th>\n",
              "      <th>date</th>\n",
              "      <th>total_vaccinations</th>\n",
              "      <th>people_vaccinated</th>\n",
              "      <th>people_fully_vaccinated</th>\n",
              "      <th>daily_vaccinations_raw</th>\n",
              "      <th>daily_vaccinations</th>\n",
              "      <th>total_vaccinations_per_hundred</th>\n",
              "      <th>people_vaccinated_per_hundred</th>\n",
              "      <th>people_fully_vaccinated_per_hundred</th>\n",
              "      <th>daily_vaccinations_per_million</th>\n",
              "      <th>vaccines</th>\n",
              "      <th>source_name</th>\n",
              "      <th>source_website</th>\n",
              "    </tr>\n",
              "    <tr>\n",
              "      <th>country</th>\n",
              "      <th></th>\n",
              "      <th></th>\n",
              "      <th></th>\n",
              "      <th></th>\n",
              "      <th></th>\n",
              "      <th></th>\n",
              "      <th></th>\n",
              "      <th></th>\n",
              "      <th></th>\n",
              "      <th></th>\n",
              "      <th></th>\n",
              "      <th></th>\n",
              "      <th></th>\n",
              "      <th></th>\n",
              "    </tr>\n",
              "  </thead>\n",
              "  <tbody>\n",
              "    <tr>\n",
              "      <th>Afghanistan</th>\n",
              "      <td>AFG</td>\n",
              "      <td>2021-04-22</td>\n",
              "      <td>240000.0</td>\n",
              "      <td>240000.0</td>\n",
              "      <td>NaN</td>\n",
              "      <td>NaN</td>\n",
              "      <td>8000.0</td>\n",
              "      <td>0.62</td>\n",
              "      <td>0.62</td>\n",
              "      <td>NaN</td>\n",
              "      <td>206.0</td>\n",
              "      <td>Oxford/AstraZeneca</td>\n",
              "      <td>Government of Afghanistan</td>\n",
              "      <td>https://reliefweb.int/report/afghanistan/afgha...</td>\n",
              "    </tr>\n",
              "    <tr>\n",
              "      <th>Albania</th>\n",
              "      <td>ALB</td>\n",
              "      <td>2021-05-06</td>\n",
              "      <td>572226.0</td>\n",
              "      <td>6073.0</td>\n",
              "      <td>655.0</td>\n",
              "      <td>23655.0</td>\n",
              "      <td>17565.0</td>\n",
              "      <td>19.88</td>\n",
              "      <td>0.21</td>\n",
              "      <td>0.02</td>\n",
              "      <td>6104.0</td>\n",
              "      <td>Oxford/AstraZeneca, Pfizer/BioNTech, Sinovac, ...</td>\n",
              "      <td>Ministry of Health</td>\n",
              "      <td>https://twitter.com/gmanastirliu/status/139037...</td>\n",
              "    </tr>\n",
              "    <tr>\n",
              "      <th>Algeria</th>\n",
              "      <td>DZA</td>\n",
              "      <td>2021-02-19</td>\n",
              "      <td>75000.0</td>\n",
              "      <td>NaN</td>\n",
              "      <td>NaN</td>\n",
              "      <td>30.0</td>\n",
              "      <td>3748.0</td>\n",
              "      <td>0.17</td>\n",
              "      <td>NaN</td>\n",
              "      <td>NaN</td>\n",
              "      <td>85.0</td>\n",
              "      <td>Sputnik V</td>\n",
              "      <td>Ministry of Health</td>\n",
              "      <td>https://www.echoroukonline.com/%d9%84%d9%82%d8...</td>\n",
              "    </tr>\n",
              "    <tr>\n",
              "      <th>Andorra</th>\n",
              "      <td>AND</td>\n",
              "      <td>2021-05-03</td>\n",
              "      <td>28881.0</td>\n",
              "      <td>24182.0</td>\n",
              "      <td>4699.0</td>\n",
              "      <td>2829.0</td>\n",
              "      <td>1182.0</td>\n",
              "      <td>37.38</td>\n",
              "      <td>31.30</td>\n",
              "      <td>6.08</td>\n",
              "      <td>15298.0</td>\n",
              "      <td>Oxford/AstraZeneca, Pfizer/BioNTech</td>\n",
              "      <td>Government of Andorra</td>\n",
              "      <td>https://www.govern.ad/covid19_newsletter/</td>\n",
              "    </tr>\n",
              "    <tr>\n",
              "      <th>Angola</th>\n",
              "      <td>AGO</td>\n",
              "      <td>2021-04-23</td>\n",
              "      <td>456349.0</td>\n",
              "      <td>456349.0</td>\n",
              "      <td>NaN</td>\n",
              "      <td>NaN</td>\n",
              "      <td>18751.0</td>\n",
              "      <td>1.39</td>\n",
              "      <td>1.39</td>\n",
              "      <td>NaN</td>\n",
              "      <td>571.0</td>\n",
              "      <td>Oxford/AstraZeneca</td>\n",
              "      <td>Ministry of Health</td>\n",
              "      <td>https://www.angop.ao/en/noticias/saude/covid-1...</td>\n",
              "    </tr>\n",
              "    <tr>\n",
              "      <th>...</th>\n",
              "      <td>...</td>\n",
              "      <td>...</td>\n",
              "      <td>...</td>\n",
              "      <td>...</td>\n",
              "      <td>...</td>\n",
              "      <td>...</td>\n",
              "      <td>...</td>\n",
              "      <td>...</td>\n",
              "      <td>...</td>\n",
              "      <td>...</td>\n",
              "      <td>...</td>\n",
              "      <td>...</td>\n",
              "      <td>...</td>\n",
              "      <td>...</td>\n",
              "    </tr>\n",
              "    <tr>\n",
              "      <th>Venezuela</th>\n",
              "      <td>VEN</td>\n",
              "      <td>2021-04-12</td>\n",
              "      <td>250000.0</td>\n",
              "      <td>250000.0</td>\n",
              "      <td>NaN</td>\n",
              "      <td>NaN</td>\n",
              "      <td>15200.0</td>\n",
              "      <td>0.88</td>\n",
              "      <td>0.88</td>\n",
              "      <td>NaN</td>\n",
              "      <td>535.0</td>\n",
              "      <td>Sputnik V</td>\n",
              "      <td>Government of Venezuela</td>\n",
              "      <td>https://www.swissinfo.ch/spa/coronavirus-venez...</td>\n",
              "    </tr>\n",
              "    <tr>\n",
              "      <th>Vietnam</th>\n",
              "      <td>VNM</td>\n",
              "      <td>2021-05-05</td>\n",
              "      <td>675956.0</td>\n",
              "      <td>675956.0</td>\n",
              "      <td>NaN</td>\n",
              "      <td>106846.0</td>\n",
              "      <td>53975.0</td>\n",
              "      <td>0.69</td>\n",
              "      <td>0.69</td>\n",
              "      <td>NaN</td>\n",
              "      <td>555.0</td>\n",
              "      <td>Oxford/AstraZeneca</td>\n",
              "      <td>Government of Vietnam</td>\n",
              "      <td>https://ncov.moh.gov.vn/vi/web/guest/-/6847426...</td>\n",
              "    </tr>\n",
              "    <tr>\n",
              "      <th>Wales</th>\n",
              "      <td>OWID_WLS</td>\n",
              "      <td>2021-05-05</td>\n",
              "      <td>2683297.0</td>\n",
              "      <td>1884372.0</td>\n",
              "      <td>798925.0</td>\n",
              "      <td>40211.0</td>\n",
              "      <td>33151.0</td>\n",
              "      <td>85.11</td>\n",
              "      <td>59.77</td>\n",
              "      <td>25.34</td>\n",
              "      <td>10515.0</td>\n",
              "      <td>Moderna, Oxford/AstraZeneca, Pfizer/BioNTech</td>\n",
              "      <td>Government of the United Kingdom</td>\n",
              "      <td>https://coronavirus.data.gov.uk/details/health...</td>\n",
              "    </tr>\n",
              "    <tr>\n",
              "      <th>Zambia</th>\n",
              "      <td>ZMB</td>\n",
              "      <td>2021-05-06</td>\n",
              "      <td>64011.0</td>\n",
              "      <td>64011.0</td>\n",
              "      <td>NaN</td>\n",
              "      <td>7198.0</td>\n",
              "      <td>5347.0</td>\n",
              "      <td>0.35</td>\n",
              "      <td>0.35</td>\n",
              "      <td>NaN</td>\n",
              "      <td>291.0</td>\n",
              "      <td>Oxford/AstraZeneca</td>\n",
              "      <td>Government of Zambia</td>\n",
              "      <td>https://www.facebook.com/mohzambia/photos/a.77...</td>\n",
              "    </tr>\n",
              "    <tr>\n",
              "      <th>Zimbabwe</th>\n",
              "      <td>ZWE</td>\n",
              "      <td>2021-05-06</td>\n",
              "      <td>607355.0</td>\n",
              "      <td>478174.0</td>\n",
              "      <td>129181.0</td>\n",
              "      <td>31122.0</td>\n",
              "      <td>21171.0</td>\n",
              "      <td>4.09</td>\n",
              "      <td>3.22</td>\n",
              "      <td>0.87</td>\n",
              "      <td>1424.0</td>\n",
              "      <td>Sinopharm/Beijing</td>\n",
              "      <td>Ministry of Health</td>\n",
              "      <td>https://twitter.com/MoHCCZim/status/1390390738...</td>\n",
              "    </tr>\n",
              "  </tbody>\n",
              "</table>\n",
              "<p>196 rows × 14 columns</p>\n",
              "</div>"
            ],
            "text/plain": [
              "             iso_code  ...                                     source_website\n",
              "country                ...                                                   \n",
              "Afghanistan       AFG  ...  https://reliefweb.int/report/afghanistan/afgha...\n",
              "Albania           ALB  ...  https://twitter.com/gmanastirliu/status/139037...\n",
              "Algeria           DZA  ...  https://www.echoroukonline.com/%d9%84%d9%82%d8...\n",
              "Andorra           AND  ...          https://www.govern.ad/covid19_newsletter/\n",
              "Angola            AGO  ...  https://www.angop.ao/en/noticias/saude/covid-1...\n",
              "...               ...  ...                                                ...\n",
              "Venezuela         VEN  ...  https://www.swissinfo.ch/spa/coronavirus-venez...\n",
              "Vietnam           VNM  ...  https://ncov.moh.gov.vn/vi/web/guest/-/6847426...\n",
              "Wales        OWID_WLS  ...  https://coronavirus.data.gov.uk/details/health...\n",
              "Zambia            ZMB  ...  https://www.facebook.com/mohzambia/photos/a.77...\n",
              "Zimbabwe          ZWE  ...  https://twitter.com/MoHCCZim/status/1390390738...\n",
              "\n",
              "[196 rows x 14 columns]"
            ]
          },
          "metadata": {
            "tags": []
          },
          "execution_count": 11
        }
      ]
    },
    {
      "cell_type": "code",
      "metadata": {
        "id": "L9cLKRhhCHqW",
        "colab": {
          "base_uri": "https://localhost:8080/"
        },
        "outputId": "c9937570-09a0-4b14-8001-eec67fb2ec38"
      },
      "source": [
        "df['vaccines']"
      ],
      "execution_count": null,
      "outputs": [
        {
          "output_type": "execute_result",
          "data": {
            "text/plain": [
              "0        Oxford/AstraZeneca\n",
              "1        Oxford/AstraZeneca\n",
              "2        Oxford/AstraZeneca\n",
              "3        Oxford/AstraZeneca\n",
              "4        Oxford/AstraZeneca\n",
              "                ...        \n",
              "15661     Sinopharm/Beijing\n",
              "15662     Sinopharm/Beijing\n",
              "15663     Sinopharm/Beijing\n",
              "15664     Sinopharm/Beijing\n",
              "15665     Sinopharm/Beijing\n",
              "Name: vaccines, Length: 15666, dtype: object"
            ]
          },
          "metadata": {
            "tags": []
          },
          "execution_count": 12
        }
      ]
    },
    {
      "cell_type": "code",
      "metadata": {
        "id": "Zna_9h4VBM37",
        "colab": {
          "base_uri": "https://localhost:8080/",
          "height": 35
        },
        "outputId": "f20c0bba-a090-438c-8db2-9d0e8e34c112"
      },
      "source": [
        "# Vaccine used the most\n",
        "df['vaccines'].max()"
      ],
      "execution_count": null,
      "outputs": [
        {
          "output_type": "execute_result",
          "data": {
            "application/vnd.google.colaboratory.intrinsic+json": {
              "type": "string"
            },
            "text/plain": [
              "'Sputnik V'"
            ]
          },
          "metadata": {
            "tags": []
          },
          "execution_count": 13
        }
      ]
    },
    {
      "cell_type": "code",
      "metadata": {
        "id": "5pdIXtwQwCS9",
        "colab": {
          "base_uri": "https://localhost:8080/"
        },
        "outputId": "cb318d66-6b9e-4dcd-f583-f6596f5533cd"
      },
      "source": [
        "df[df['vaccines']=='Moderna'].max()"
      ],
      "execution_count": null,
      "outputs": [
        {
          "output_type": "execute_result",
          "data": {
            "text/plain": [
              "country                               NaN\n",
              "iso_code                              NaN\n",
              "date                                  NaN\n",
              "total_vaccinations                    NaN\n",
              "people_vaccinated                     NaN\n",
              "people_fully_vaccinated               NaN\n",
              "daily_vaccinations_raw                NaN\n",
              "daily_vaccinations                    NaN\n",
              "total_vaccinations_per_hundred        NaN\n",
              "people_vaccinated_per_hundred         NaN\n",
              "people_fully_vaccinated_per_hundred   NaN\n",
              "daily_vaccinations_per_million        NaN\n",
              "vaccines                              NaN\n",
              "source_name                           NaN\n",
              "source_website                        NaN\n",
              "dtype: float64"
            ]
          },
          "metadata": {
            "tags": []
          },
          "execution_count": 14
        }
      ]
    },
    {
      "cell_type": "markdown",
      "metadata": {
        "id": "X62L421NDAlu"
      },
      "source": [
        "## The origin of the Vaccine Sputnik V is Russia, developped by health ministry."
      ]
    },
    {
      "cell_type": "code",
      "metadata": {
        "id": "i3XB2ewUCN_W",
        "colab": {
          "base_uri": "https://localhost:8080/"
        },
        "outputId": "ebdb5b5e-943e-4ca5-9e1a-c70cc80ec9d8"
      },
      "source": [
        "\n",
        "df[df['vaccines']=='Sputnik V'].value_counts().sum()\n"
      ],
      "execution_count": null,
      "outputs": [
        {
          "output_type": "execute_result",
          "data": {
            "text/plain": [
              "60"
            ]
          },
          "metadata": {
            "tags": []
          },
          "execution_count": 15
        }
      ]
    },
    {
      "cell_type": "code",
      "metadata": {
        "id": "VGEGklwgiFgT"
      },
      "source": [
        "df.drop('source_website', axis=1, inplace=True)"
      ],
      "execution_count": null,
      "outputs": []
    },
    {
      "cell_type": "code",
      "metadata": {
        "id": "dBQ3aYPHF5co",
        "colab": {
          "base_uri": "https://localhost:8080/",
          "height": 391
        },
        "outputId": "e1982f20-16d2-4397-9fd1-905b60be6d56"
      },
      "source": [
        "df.head()"
      ],
      "execution_count": null,
      "outputs": [
        {
          "output_type": "execute_result",
          "data": {
            "text/html": [
              "<div>\n",
              "<style scoped>\n",
              "    .dataframe tbody tr th:only-of-type {\n",
              "        vertical-align: middle;\n",
              "    }\n",
              "\n",
              "    .dataframe tbody tr th {\n",
              "        vertical-align: top;\n",
              "    }\n",
              "\n",
              "    .dataframe thead th {\n",
              "        text-align: right;\n",
              "    }\n",
              "</style>\n",
              "<table border=\"1\" class=\"dataframe\">\n",
              "  <thead>\n",
              "    <tr style=\"text-align: right;\">\n",
              "      <th></th>\n",
              "      <th>country</th>\n",
              "      <th>iso_code</th>\n",
              "      <th>date</th>\n",
              "      <th>total_vaccinations</th>\n",
              "      <th>people_vaccinated</th>\n",
              "      <th>people_fully_vaccinated</th>\n",
              "      <th>daily_vaccinations_raw</th>\n",
              "      <th>daily_vaccinations</th>\n",
              "      <th>total_vaccinations_per_hundred</th>\n",
              "      <th>people_vaccinated_per_hundred</th>\n",
              "      <th>people_fully_vaccinated_per_hundred</th>\n",
              "      <th>daily_vaccinations_per_million</th>\n",
              "      <th>vaccines</th>\n",
              "      <th>source_name</th>\n",
              "    </tr>\n",
              "  </thead>\n",
              "  <tbody>\n",
              "    <tr>\n",
              "      <th>0</th>\n",
              "      <td>Afghanistan</td>\n",
              "      <td>AFG</td>\n",
              "      <td>2021-02-22</td>\n",
              "      <td>0.0</td>\n",
              "      <td>0.0</td>\n",
              "      <td>NaN</td>\n",
              "      <td>NaN</td>\n",
              "      <td>NaN</td>\n",
              "      <td>0.0</td>\n",
              "      <td>0.0</td>\n",
              "      <td>NaN</td>\n",
              "      <td>NaN</td>\n",
              "      <td>Oxford/AstraZeneca</td>\n",
              "      <td>Government of Afghanistan</td>\n",
              "    </tr>\n",
              "    <tr>\n",
              "      <th>1</th>\n",
              "      <td>Afghanistan</td>\n",
              "      <td>AFG</td>\n",
              "      <td>2021-02-23</td>\n",
              "      <td>NaN</td>\n",
              "      <td>NaN</td>\n",
              "      <td>NaN</td>\n",
              "      <td>NaN</td>\n",
              "      <td>1367.0</td>\n",
              "      <td>NaN</td>\n",
              "      <td>NaN</td>\n",
              "      <td>NaN</td>\n",
              "      <td>35.0</td>\n",
              "      <td>Oxford/AstraZeneca</td>\n",
              "      <td>Government of Afghanistan</td>\n",
              "    </tr>\n",
              "    <tr>\n",
              "      <th>2</th>\n",
              "      <td>Afghanistan</td>\n",
              "      <td>AFG</td>\n",
              "      <td>2021-02-24</td>\n",
              "      <td>NaN</td>\n",
              "      <td>NaN</td>\n",
              "      <td>NaN</td>\n",
              "      <td>NaN</td>\n",
              "      <td>1367.0</td>\n",
              "      <td>NaN</td>\n",
              "      <td>NaN</td>\n",
              "      <td>NaN</td>\n",
              "      <td>35.0</td>\n",
              "      <td>Oxford/AstraZeneca</td>\n",
              "      <td>Government of Afghanistan</td>\n",
              "    </tr>\n",
              "    <tr>\n",
              "      <th>3</th>\n",
              "      <td>Afghanistan</td>\n",
              "      <td>AFG</td>\n",
              "      <td>2021-02-25</td>\n",
              "      <td>NaN</td>\n",
              "      <td>NaN</td>\n",
              "      <td>NaN</td>\n",
              "      <td>NaN</td>\n",
              "      <td>1367.0</td>\n",
              "      <td>NaN</td>\n",
              "      <td>NaN</td>\n",
              "      <td>NaN</td>\n",
              "      <td>35.0</td>\n",
              "      <td>Oxford/AstraZeneca</td>\n",
              "      <td>Government of Afghanistan</td>\n",
              "    </tr>\n",
              "    <tr>\n",
              "      <th>4</th>\n",
              "      <td>Afghanistan</td>\n",
              "      <td>AFG</td>\n",
              "      <td>2021-02-26</td>\n",
              "      <td>NaN</td>\n",
              "      <td>NaN</td>\n",
              "      <td>NaN</td>\n",
              "      <td>NaN</td>\n",
              "      <td>1367.0</td>\n",
              "      <td>NaN</td>\n",
              "      <td>NaN</td>\n",
              "      <td>NaN</td>\n",
              "      <td>35.0</td>\n",
              "      <td>Oxford/AstraZeneca</td>\n",
              "      <td>Government of Afghanistan</td>\n",
              "    </tr>\n",
              "  </tbody>\n",
              "</table>\n",
              "</div>"
            ],
            "text/plain": [
              "       country iso_code  ...            vaccines                source_name\n",
              "0  Afghanistan      AFG  ...  Oxford/AstraZeneca  Government of Afghanistan\n",
              "1  Afghanistan      AFG  ...  Oxford/AstraZeneca  Government of Afghanistan\n",
              "2  Afghanistan      AFG  ...  Oxford/AstraZeneca  Government of Afghanistan\n",
              "3  Afghanistan      AFG  ...  Oxford/AstraZeneca  Government of Afghanistan\n",
              "4  Afghanistan      AFG  ...  Oxford/AstraZeneca  Government of Afghanistan\n",
              "\n",
              "[5 rows x 14 columns]"
            ]
          },
          "metadata": {
            "tags": []
          },
          "execution_count": 17
        }
      ]
    },
    {
      "cell_type": "code",
      "metadata": {
        "id": "t7P3BRkFitHp"
      },
      "source": [
        "# Dropping the data with Nan values\n",
        "\n",
        "df.dropna(inplace=True)"
      ],
      "execution_count": null,
      "outputs": []
    },
    {
      "cell_type": "code",
      "metadata": {
        "colab": {
          "base_uri": "https://localhost:8080/",
          "height": 374
        },
        "id": "TnWZa9zgi9gz",
        "outputId": "ff0bd1b4-7274-4aef-d3aa-3dc538583435"
      },
      "source": [
        "df.head()"
      ],
      "execution_count": null,
      "outputs": [
        {
          "output_type": "execute_result",
          "data": {
            "text/html": [
              "<div>\n",
              "<style scoped>\n",
              "    .dataframe tbody tr th:only-of-type {\n",
              "        vertical-align: middle;\n",
              "    }\n",
              "\n",
              "    .dataframe tbody tr th {\n",
              "        vertical-align: top;\n",
              "    }\n",
              "\n",
              "    .dataframe thead th {\n",
              "        text-align: right;\n",
              "    }\n",
              "</style>\n",
              "<table border=\"1\" class=\"dataframe\">\n",
              "  <thead>\n",
              "    <tr style=\"text-align: right;\">\n",
              "      <th></th>\n",
              "      <th>country</th>\n",
              "      <th>iso_code</th>\n",
              "      <th>date</th>\n",
              "      <th>total_vaccinations</th>\n",
              "      <th>people_vaccinated</th>\n",
              "      <th>people_fully_vaccinated</th>\n",
              "      <th>daily_vaccinations_raw</th>\n",
              "      <th>daily_vaccinations</th>\n",
              "      <th>total_vaccinations_per_hundred</th>\n",
              "      <th>people_vaccinated_per_hundred</th>\n",
              "      <th>people_fully_vaccinated_per_hundred</th>\n",
              "      <th>daily_vaccinations_per_million</th>\n",
              "      <th>vaccines</th>\n",
              "      <th>source_name</th>\n",
              "    </tr>\n",
              "  </thead>\n",
              "  <tbody>\n",
              "    <tr>\n",
              "      <th>99</th>\n",
              "      <td>Albania</td>\n",
              "      <td>ALB</td>\n",
              "      <td>2021-02-18</td>\n",
              "      <td>3049.0</td>\n",
              "      <td>2438.0</td>\n",
              "      <td>611.0</td>\n",
              "      <td>1348.0</td>\n",
              "      <td>254.0</td>\n",
              "      <td>0.11</td>\n",
              "      <td>0.08</td>\n",
              "      <td>0.02</td>\n",
              "      <td>88.0</td>\n",
              "      <td>Oxford/AstraZeneca, Pfizer/BioNTech, Sinovac, ...</td>\n",
              "      <td>Ministry of Health</td>\n",
              "    </tr>\n",
              "    <tr>\n",
              "      <th>269</th>\n",
              "      <td>Andorra</td>\n",
              "      <td>AND</td>\n",
              "      <td>2021-04-05</td>\n",
              "      <td>15269.0</td>\n",
              "      <td>9781.0</td>\n",
              "      <td>4484.0</td>\n",
              "      <td>2829.0</td>\n",
              "      <td>573.0</td>\n",
              "      <td>19.76</td>\n",
              "      <td>12.66</td>\n",
              "      <td>5.80</td>\n",
              "      <td>7416.0</td>\n",
              "      <td>Oxford/AstraZeneca, Pfizer/BioNTech</td>\n",
              "      <td>Government of Andorra</td>\n",
              "    </tr>\n",
              "    <tr>\n",
              "      <th>519</th>\n",
              "      <td>Argentina</td>\n",
              "      <td>ARG</td>\n",
              "      <td>2021-01-21</td>\n",
              "      <td>265724.0</td>\n",
              "      <td>249372.0</td>\n",
              "      <td>16352.0</td>\n",
              "      <td>17791.0</td>\n",
              "      <td>11704.0</td>\n",
              "      <td>0.59</td>\n",
              "      <td>0.55</td>\n",
              "      <td>0.04</td>\n",
              "      <td>259.0</td>\n",
              "      <td>Oxford/AstraZeneca, Sinopharm/Beijing, Sputnik V</td>\n",
              "      <td>Ministry of Health</td>\n",
              "    </tr>\n",
              "    <tr>\n",
              "      <th>520</th>\n",
              "      <td>Argentina</td>\n",
              "      <td>ARG</td>\n",
              "      <td>2021-01-22</td>\n",
              "      <td>279602.0</td>\n",
              "      <td>254456.0</td>\n",
              "      <td>25146.0</td>\n",
              "      <td>13878.0</td>\n",
              "      <td>11263.0</td>\n",
              "      <td>0.62</td>\n",
              "      <td>0.56</td>\n",
              "      <td>0.06</td>\n",
              "      <td>249.0</td>\n",
              "      <td>Oxford/AstraZeneca, Sinopharm/Beijing, Sputnik V</td>\n",
              "      <td>Ministry of Health</td>\n",
              "    </tr>\n",
              "    <tr>\n",
              "      <th>521</th>\n",
              "      <td>Argentina</td>\n",
              "      <td>ARG</td>\n",
              "      <td>2021-01-23</td>\n",
              "      <td>288064.0</td>\n",
              "      <td>258876.0</td>\n",
              "      <td>29188.0</td>\n",
              "      <td>8462.0</td>\n",
              "      <td>11124.0</td>\n",
              "      <td>0.64</td>\n",
              "      <td>0.57</td>\n",
              "      <td>0.06</td>\n",
              "      <td>246.0</td>\n",
              "      <td>Oxford/AstraZeneca, Sinopharm/Beijing, Sputnik V</td>\n",
              "      <td>Ministry of Health</td>\n",
              "    </tr>\n",
              "  </tbody>\n",
              "</table>\n",
              "</div>"
            ],
            "text/plain": [
              "       country  ...            source_name\n",
              "99     Albania  ...     Ministry of Health\n",
              "269    Andorra  ...  Government of Andorra\n",
              "519  Argentina  ...     Ministry of Health\n",
              "520  Argentina  ...     Ministry of Health\n",
              "521  Argentina  ...     Ministry of Health\n",
              "\n",
              "[5 rows x 14 columns]"
            ]
          },
          "metadata": {
            "tags": []
          },
          "execution_count": 19
        }
      ]
    },
    {
      "cell_type": "code",
      "metadata": {
        "id": "MhnN24PeB7uy",
        "colab": {
          "base_uri": "https://localhost:8080/",
          "height": 35
        },
        "outputId": "6a5e6256-8782-4c03-8239-253ca015c463"
      },
      "source": [
        "# Vaccine with the least shots\n",
        "df['vaccines'].min()"
      ],
      "execution_count": null,
      "outputs": [
        {
          "output_type": "execute_result",
          "data": {
            "application/vnd.google.colaboratory.intrinsic+json": {
              "type": "string"
            },
            "text/plain": [
              "'CanSino, Oxford/AstraZeneca, Pfizer/BioNTech, Sinovac, Sputnik V'"
            ]
          },
          "metadata": {
            "tags": []
          },
          "execution_count": 20
        }
      ]
    },
    {
      "cell_type": "code",
      "metadata": {
        "id": "eTRyEzF8BJ14",
        "colab": {
          "base_uri": "https://localhost:8080/"
        },
        "outputId": "e70ee2b7-9167-43f5-c45d-b0ade0d38129"
      },
      "source": [
        "df[df['vaccines'] == 'Sinopharm/Beijing'].count().sum()"
      ],
      "execution_count": null,
      "outputs": [
        {
          "output_type": "execute_result",
          "data": {
            "text/plain": [
              "644"
            ]
          },
          "metadata": {
            "tags": []
          },
          "execution_count": 21
        }
      ]
    },
    {
      "cell_type": "code",
      "metadata": {
        "colab": {
          "base_uri": "https://localhost:8080/"
        },
        "id": "bivrH5tEj6xh",
        "outputId": "fad0aaa8-fd82-4b21-b944-f65c98c17945"
      },
      "source": [
        "# How many vaccines have been developped\n",
        "\n",
        "df['vaccines'].nunique()\n"
      ],
      "execution_count": null,
      "outputs": [
        {
          "output_type": "execute_result",
          "data": {
            "text/plain": [
              "29"
            ]
          },
          "metadata": {
            "tags": []
          },
          "execution_count": 22
        }
      ]
    },
    {
      "cell_type": "markdown",
      "metadata": {
        "id": "vWyMJbTwDmPw"
      },
      "source": [
        "#USA Data\n"
      ]
    },
    {
      "cell_type": "code",
      "metadata": {
        "id": "gsMxH6DIDGQI"
      },
      "source": [
        "\n",
        "data = df[df['country']== \"United States\"]"
      ],
      "execution_count": null,
      "outputs": []
    },
    {
      "cell_type": "code",
      "metadata": {
        "colab": {
          "base_uri": "https://localhost:8080/",
          "height": 886
        },
        "id": "f8__KU1tKGl9",
        "outputId": "c5e85402-0a39-4f01-a4fe-ce32ec910eb6"
      },
      "source": [
        "# \n",
        "data.head(10)"
      ],
      "execution_count": null,
      "outputs": [
        {
          "output_type": "execute_result",
          "data": {
            "text/html": [
              "<div>\n",
              "<style scoped>\n",
              "    .dataframe tbody tr th:only-of-type {\n",
              "        vertical-align: middle;\n",
              "    }\n",
              "\n",
              "    .dataframe tbody tr th {\n",
              "        vertical-align: top;\n",
              "    }\n",
              "\n",
              "    .dataframe thead th {\n",
              "        text-align: right;\n",
              "    }\n",
              "</style>\n",
              "<table border=\"1\" class=\"dataframe\">\n",
              "  <thead>\n",
              "    <tr style=\"text-align: right;\">\n",
              "      <th></th>\n",
              "      <th>country</th>\n",
              "      <th>iso_code</th>\n",
              "      <th>date</th>\n",
              "      <th>total_vaccinations</th>\n",
              "      <th>people_vaccinated</th>\n",
              "      <th>people_fully_vaccinated</th>\n",
              "      <th>daily_vaccinations_raw</th>\n",
              "      <th>daily_vaccinations</th>\n",
              "      <th>total_vaccinations_per_hundred</th>\n",
              "      <th>people_vaccinated_per_hundred</th>\n",
              "      <th>people_fully_vaccinated_per_hundred</th>\n",
              "      <th>daily_vaccinations_per_million</th>\n",
              "      <th>vaccines</th>\n",
              "      <th>source_name</th>\n",
              "    </tr>\n",
              "  </thead>\n",
              "  <tbody>\n",
              "    <tr>\n",
              "      <th>15117</th>\n",
              "      <td>United States</td>\n",
              "      <td>USA</td>\n",
              "      <td>2021-01-14</td>\n",
              "      <td>11148991.0</td>\n",
              "      <td>9690757.0</td>\n",
              "      <td>1342086.0</td>\n",
              "      <td>870529.0</td>\n",
              "      <td>747082.0</td>\n",
              "      <td>3.33</td>\n",
              "      <td>2.90</td>\n",
              "      <td>0.40</td>\n",
              "      <td>2234.0</td>\n",
              "      <td>Johnson&amp;Johnson, Moderna, Pfizer/BioNTech</td>\n",
              "      <td>Centers for Disease Control and Prevention</td>\n",
              "    </tr>\n",
              "    <tr>\n",
              "      <th>15118</th>\n",
              "      <td>United States</td>\n",
              "      <td>USA</td>\n",
              "      <td>2021-01-15</td>\n",
              "      <td>12279180.0</td>\n",
              "      <td>10595866.0</td>\n",
              "      <td>1610524.0</td>\n",
              "      <td>1130189.0</td>\n",
              "      <td>798707.0</td>\n",
              "      <td>3.67</td>\n",
              "      <td>3.17</td>\n",
              "      <td>0.48</td>\n",
              "      <td>2388.0</td>\n",
              "      <td>Johnson&amp;Johnson, Moderna, Pfizer/BioNTech</td>\n",
              "      <td>Centers for Disease Control and Prevention</td>\n",
              "    </tr>\n",
              "    <tr>\n",
              "      <th>15123</th>\n",
              "      <td>United States</td>\n",
              "      <td>USA</td>\n",
              "      <td>2021-01-20</td>\n",
              "      <td>16525281.0</td>\n",
              "      <td>14270441.0</td>\n",
              "      <td>2161419.0</td>\n",
              "      <td>817693.0</td>\n",
              "      <td>892403.0</td>\n",
              "      <td>4.94</td>\n",
              "      <td>4.27</td>\n",
              "      <td>0.65</td>\n",
              "      <td>2668.0</td>\n",
              "      <td>Johnson&amp;Johnson, Moderna, Pfizer/BioNTech</td>\n",
              "      <td>Centers for Disease Control and Prevention</td>\n",
              "    </tr>\n",
              "    <tr>\n",
              "      <th>15124</th>\n",
              "      <td>United States</td>\n",
              "      <td>USA</td>\n",
              "      <td>2021-01-21</td>\n",
              "      <td>17546374.0</td>\n",
              "      <td>15053257.0</td>\n",
              "      <td>2394961.0</td>\n",
              "      <td>1021093.0</td>\n",
              "      <td>913912.0</td>\n",
              "      <td>5.25</td>\n",
              "      <td>4.50</td>\n",
              "      <td>0.72</td>\n",
              "      <td>2733.0</td>\n",
              "      <td>Johnson&amp;Johnson, Moderna, Pfizer/BioNTech</td>\n",
              "      <td>Centers for Disease Control and Prevention</td>\n",
              "    </tr>\n",
              "    <tr>\n",
              "      <th>15125</th>\n",
              "      <td>United States</td>\n",
              "      <td>USA</td>\n",
              "      <td>2021-01-22</td>\n",
              "      <td>19107959.0</td>\n",
              "      <td>16243093.0</td>\n",
              "      <td>2756953.0</td>\n",
              "      <td>1561585.0</td>\n",
              "      <td>975540.0</td>\n",
              "      <td>5.71</td>\n",
              "      <td>4.86</td>\n",
              "      <td>0.82</td>\n",
              "      <td>2917.0</td>\n",
              "      <td>Johnson&amp;Johnson, Moderna, Pfizer/BioNTech</td>\n",
              "      <td>Centers for Disease Control and Prevention</td>\n",
              "    </tr>\n",
              "    <tr>\n",
              "      <th>15126</th>\n",
              "      <td>United States</td>\n",
              "      <td>USA</td>\n",
              "      <td>2021-01-23</td>\n",
              "      <td>20537990.0</td>\n",
              "      <td>17390345.0</td>\n",
              "      <td>3027865.0</td>\n",
              "      <td>1430031.0</td>\n",
              "      <td>1057387.0</td>\n",
              "      <td>6.14</td>\n",
              "      <td>5.20</td>\n",
              "      <td>0.91</td>\n",
              "      <td>3162.0</td>\n",
              "      <td>Johnson&amp;Johnson, Moderna, Pfizer/BioNTech</td>\n",
              "      <td>Centers for Disease Control and Prevention</td>\n",
              "    </tr>\n",
              "    <tr>\n",
              "      <th>15127</th>\n",
              "      <td>United States</td>\n",
              "      <td>USA</td>\n",
              "      <td>2021-01-24</td>\n",
              "      <td>21848655.0</td>\n",
              "      <td>18502131.0</td>\n",
              "      <td>3216836.0</td>\n",
              "      <td>1310665.0</td>\n",
              "      <td>1122182.0</td>\n",
              "      <td>6.53</td>\n",
              "      <td>5.53</td>\n",
              "      <td>0.96</td>\n",
              "      <td>3355.0</td>\n",
              "      <td>Johnson&amp;Johnson, Moderna, Pfizer/BioNTech</td>\n",
              "      <td>Centers for Disease Control and Prevention</td>\n",
              "    </tr>\n",
              "    <tr>\n",
              "      <th>15128</th>\n",
              "      <td>United States</td>\n",
              "      <td>USA</td>\n",
              "      <td>2021-01-25</td>\n",
              "      <td>22734243.0</td>\n",
              "      <td>19252279.0</td>\n",
              "      <td>3346390.0</td>\n",
              "      <td>885588.0</td>\n",
              "      <td>1126251.0</td>\n",
              "      <td>6.80</td>\n",
              "      <td>5.76</td>\n",
              "      <td>1.00</td>\n",
              "      <td>3368.0</td>\n",
              "      <td>Johnson&amp;Johnson, Moderna, Pfizer/BioNTech</td>\n",
              "      <td>Centers for Disease Control and Prevention</td>\n",
              "    </tr>\n",
              "    <tr>\n",
              "      <th>15129</th>\n",
              "      <td>United States</td>\n",
              "      <td>USA</td>\n",
              "      <td>2021-01-26</td>\n",
              "      <td>23540994.0</td>\n",
              "      <td>19902237.0</td>\n",
              "      <td>3481921.0</td>\n",
              "      <td>806751.0</td>\n",
              "      <td>1119058.0</td>\n",
              "      <td>7.04</td>\n",
              "      <td>5.95</td>\n",
              "      <td>1.04</td>\n",
              "      <td>3346.0</td>\n",
              "      <td>Johnson&amp;Johnson, Moderna, Pfizer/BioNTech</td>\n",
              "      <td>Centers for Disease Control and Prevention</td>\n",
              "    </tr>\n",
              "    <tr>\n",
              "      <th>15130</th>\n",
              "      <td>United States</td>\n",
              "      <td>USA</td>\n",
              "      <td>2021-01-27</td>\n",
              "      <td>24652634.0</td>\n",
              "      <td>20687970.0</td>\n",
              "      <td>3801053.0</td>\n",
              "      <td>1111640.0</td>\n",
              "      <td>1161050.0</td>\n",
              "      <td>7.37</td>\n",
              "      <td>6.19</td>\n",
              "      <td>1.14</td>\n",
              "      <td>3472.0</td>\n",
              "      <td>Johnson&amp;Johnson, Moderna, Pfizer/BioNTech</td>\n",
              "      <td>Centers for Disease Control and Prevention</td>\n",
              "    </tr>\n",
              "  </tbody>\n",
              "</table>\n",
              "</div>"
            ],
            "text/plain": [
              "             country  ...                                 source_name\n",
              "15117  United States  ...  Centers for Disease Control and Prevention\n",
              "15118  United States  ...  Centers for Disease Control and Prevention\n",
              "15123  United States  ...  Centers for Disease Control and Prevention\n",
              "15124  United States  ...  Centers for Disease Control and Prevention\n",
              "15125  United States  ...  Centers for Disease Control and Prevention\n",
              "15126  United States  ...  Centers for Disease Control and Prevention\n",
              "15127  United States  ...  Centers for Disease Control and Prevention\n",
              "15128  United States  ...  Centers for Disease Control and Prevention\n",
              "15129  United States  ...  Centers for Disease Control and Prevention\n",
              "15130  United States  ...  Centers for Disease Control and Prevention\n",
              "\n",
              "[10 rows x 14 columns]"
            ]
          },
          "metadata": {
            "tags": []
          },
          "execution_count": 24
        }
      ]
    },
    {
      "cell_type": "code",
      "metadata": {
        "colab": {
          "base_uri": "https://localhost:8080/",
          "height": 477
        },
        "id": "uCCBVvKzHcqA",
        "outputId": "43aea77f-5217-4e67-be85-78e9f7c0137d"
      },
      "source": [
        "data.drop(['people_fully_vaccinated_per_hundred', 'iso_code','people_vaccinated'], axis=1).head()"
      ],
      "execution_count": null,
      "outputs": [
        {
          "output_type": "execute_result",
          "data": {
            "text/html": [
              "<div>\n",
              "<style scoped>\n",
              "    .dataframe tbody tr th:only-of-type {\n",
              "        vertical-align: middle;\n",
              "    }\n",
              "\n",
              "    .dataframe tbody tr th {\n",
              "        vertical-align: top;\n",
              "    }\n",
              "\n",
              "    .dataframe thead th {\n",
              "        text-align: right;\n",
              "    }\n",
              "</style>\n",
              "<table border=\"1\" class=\"dataframe\">\n",
              "  <thead>\n",
              "    <tr style=\"text-align: right;\">\n",
              "      <th></th>\n",
              "      <th>country</th>\n",
              "      <th>date</th>\n",
              "      <th>total_vaccinations</th>\n",
              "      <th>people_fully_vaccinated</th>\n",
              "      <th>daily_vaccinations_raw</th>\n",
              "      <th>daily_vaccinations</th>\n",
              "      <th>total_vaccinations_per_hundred</th>\n",
              "      <th>people_vaccinated_per_hundred</th>\n",
              "      <th>daily_vaccinations_per_million</th>\n",
              "      <th>vaccines</th>\n",
              "      <th>source_name</th>\n",
              "    </tr>\n",
              "  </thead>\n",
              "  <tbody>\n",
              "    <tr>\n",
              "      <th>15117</th>\n",
              "      <td>United States</td>\n",
              "      <td>2021-01-14</td>\n",
              "      <td>11148991.0</td>\n",
              "      <td>1342086.0</td>\n",
              "      <td>870529.0</td>\n",
              "      <td>747082.0</td>\n",
              "      <td>3.33</td>\n",
              "      <td>2.90</td>\n",
              "      <td>2234.0</td>\n",
              "      <td>Johnson&amp;Johnson, Moderna, Pfizer/BioNTech</td>\n",
              "      <td>Centers for Disease Control and Prevention</td>\n",
              "    </tr>\n",
              "    <tr>\n",
              "      <th>15118</th>\n",
              "      <td>United States</td>\n",
              "      <td>2021-01-15</td>\n",
              "      <td>12279180.0</td>\n",
              "      <td>1610524.0</td>\n",
              "      <td>1130189.0</td>\n",
              "      <td>798707.0</td>\n",
              "      <td>3.67</td>\n",
              "      <td>3.17</td>\n",
              "      <td>2388.0</td>\n",
              "      <td>Johnson&amp;Johnson, Moderna, Pfizer/BioNTech</td>\n",
              "      <td>Centers for Disease Control and Prevention</td>\n",
              "    </tr>\n",
              "    <tr>\n",
              "      <th>15123</th>\n",
              "      <td>United States</td>\n",
              "      <td>2021-01-20</td>\n",
              "      <td>16525281.0</td>\n",
              "      <td>2161419.0</td>\n",
              "      <td>817693.0</td>\n",
              "      <td>892403.0</td>\n",
              "      <td>4.94</td>\n",
              "      <td>4.27</td>\n",
              "      <td>2668.0</td>\n",
              "      <td>Johnson&amp;Johnson, Moderna, Pfizer/BioNTech</td>\n",
              "      <td>Centers for Disease Control and Prevention</td>\n",
              "    </tr>\n",
              "    <tr>\n",
              "      <th>15124</th>\n",
              "      <td>United States</td>\n",
              "      <td>2021-01-21</td>\n",
              "      <td>17546374.0</td>\n",
              "      <td>2394961.0</td>\n",
              "      <td>1021093.0</td>\n",
              "      <td>913912.0</td>\n",
              "      <td>5.25</td>\n",
              "      <td>4.50</td>\n",
              "      <td>2733.0</td>\n",
              "      <td>Johnson&amp;Johnson, Moderna, Pfizer/BioNTech</td>\n",
              "      <td>Centers for Disease Control and Prevention</td>\n",
              "    </tr>\n",
              "    <tr>\n",
              "      <th>15125</th>\n",
              "      <td>United States</td>\n",
              "      <td>2021-01-22</td>\n",
              "      <td>19107959.0</td>\n",
              "      <td>2756953.0</td>\n",
              "      <td>1561585.0</td>\n",
              "      <td>975540.0</td>\n",
              "      <td>5.71</td>\n",
              "      <td>4.86</td>\n",
              "      <td>2917.0</td>\n",
              "      <td>Johnson&amp;Johnson, Moderna, Pfizer/BioNTech</td>\n",
              "      <td>Centers for Disease Control and Prevention</td>\n",
              "    </tr>\n",
              "  </tbody>\n",
              "</table>\n",
              "</div>"
            ],
            "text/plain": [
              "             country  ...                                 source_name\n",
              "15117  United States  ...  Centers for Disease Control and Prevention\n",
              "15118  United States  ...  Centers for Disease Control and Prevention\n",
              "15123  United States  ...  Centers for Disease Control and Prevention\n",
              "15124  United States  ...  Centers for Disease Control and Prevention\n",
              "15125  United States  ...  Centers for Disease Control and Prevention\n",
              "\n",
              "[5 rows x 11 columns]"
            ]
          },
          "metadata": {
            "tags": []
          },
          "execution_count": 25
        }
      ]
    },
    {
      "cell_type": "markdown",
      "metadata": {
        "id": "0aCEMx6o-6N-"
      },
      "source": [
        "# EDA"
      ]
    },
    {
      "cell_type": "markdown",
      "metadata": {
        "id": "U743wAsx_Enc"
      },
      "source": [
        "## Creating some simple plot to check out the Data"
      ]
    },
    {
      "cell_type": "code",
      "metadata": {
        "colab": {
          "base_uri": "https://localhost:8080/"
        },
        "id": "23IdPKB_MZqZ",
        "outputId": "4e03ce4a-4e78-4c86-a7f1-f8ebfa2d6d20"
      },
      "source": [
        "data.info()"
      ],
      "execution_count": null,
      "outputs": [
        {
          "output_type": "stream",
          "text": [
            "<class 'pandas.core.frame.DataFrame'>\n",
            "Int64Index: 107 entries, 15117 to 15229\n",
            "Data columns (total 14 columns):\n",
            " #   Column                               Non-Null Count  Dtype  \n",
            "---  ------                               --------------  -----  \n",
            " 0   country                              107 non-null    object \n",
            " 1   iso_code                             107 non-null    object \n",
            " 2   date                                 107 non-null    object \n",
            " 3   total_vaccinations                   107 non-null    float64\n",
            " 4   people_vaccinated                    107 non-null    float64\n",
            " 5   people_fully_vaccinated              107 non-null    float64\n",
            " 6   daily_vaccinations_raw               107 non-null    float64\n",
            " 7   daily_vaccinations                   107 non-null    float64\n",
            " 8   total_vaccinations_per_hundred       107 non-null    float64\n",
            " 9   people_vaccinated_per_hundred        107 non-null    float64\n",
            " 10  people_fully_vaccinated_per_hundred  107 non-null    float64\n",
            " 11  daily_vaccinations_per_million       107 non-null    float64\n",
            " 12  vaccines                             107 non-null    object \n",
            " 13  source_name                          107 non-null    object \n",
            "dtypes: float64(9), object(5)\n",
            "memory usage: 12.5+ KB\n"
          ],
          "name": "stdout"
        }
      ]
    },
    {
      "cell_type": "code",
      "metadata": {
        "colab": {
          "base_uri": "https://localhost:8080/"
        },
        "id": "GK_dkG6WNcXz",
        "outputId": "a38a4f3d-61da-4b7c-d137-f295be97e9cf"
      },
      "source": [
        "print(df['date'].dtype)"
      ],
      "execution_count": null,
      "outputs": [
        {
          "output_type": "stream",
          "text": [
            "object\n"
          ],
          "name": "stdout"
        }
      ]
    },
    {
      "cell_type": "code",
      "metadata": {
        "colab": {
          "base_uri": "https://localhost:8080/"
        },
        "id": "xivCwnG0NSIg",
        "outputId": "b4551121-41ae-4c8b-85dd-6f375a62f04d"
      },
      "source": [
        "data['date']= pd.to_datetime(data['date'])\n",
        "\n",
        "data['date_num']=data['date'].map(dt.datetime.toordinal)\n"
      ],
      "execution_count": null,
      "outputs": [
        {
          "output_type": "stream",
          "text": [
            "/usr/local/lib/python3.7/dist-packages/ipykernel_launcher.py:1: SettingWithCopyWarning: \n",
            "A value is trying to be set on a copy of a slice from a DataFrame.\n",
            "Try using .loc[row_indexer,col_indexer] = value instead\n",
            "\n",
            "See the caveats in the documentation: https://pandas.pydata.org/pandas-docs/stable/user_guide/indexing.html#returning-a-view-versus-a-copy\n",
            "  \"\"\"Entry point for launching an IPython kernel.\n",
            "/usr/local/lib/python3.7/dist-packages/ipykernel_launcher.py:3: SettingWithCopyWarning: \n",
            "A value is trying to be set on a copy of a slice from a DataFrame.\n",
            "Try using .loc[row_indexer,col_indexer] = value instead\n",
            "\n",
            "See the caveats in the documentation: https://pandas.pydata.org/pandas-docs/stable/user_guide/indexing.html#returning-a-view-versus-a-copy\n",
            "  This is separate from the ipykernel package so we can avoid doing imports until\n"
          ],
          "name": "stderr"
        }
      ]
    },
    {
      "cell_type": "code",
      "metadata": {
        "colab": {
          "base_uri": "https://localhost:8080/"
        },
        "id": "pGi3UkwS20GQ",
        "outputId": "ddc2131e-e70a-46cb-a1ec-fdfab752a1b0"
      },
      "source": [
        "data.date_num=data[\"date_num\"] - 737778\n"
      ],
      "execution_count": null,
      "outputs": [
        {
          "output_type": "stream",
          "text": [
            "/usr/local/lib/python3.7/dist-packages/pandas/core/generic.py:5170: SettingWithCopyWarning: \n",
            "A value is trying to be set on a copy of a slice from a DataFrame.\n",
            "Try using .loc[row_indexer,col_indexer] = value instead\n",
            "\n",
            "See the caveats in the documentation: https://pandas.pydata.org/pandas-docs/stable/user_guide/indexing.html#returning-a-view-versus-a-copy\n",
            "  self[name] = value\n"
          ],
          "name": "stderr"
        }
      ]
    },
    {
      "cell_type": "code",
      "metadata": {
        "colab": {
          "base_uri": "https://localhost:8080/"
        },
        "id": "_aNPhkPG1wVL",
        "outputId": "56e37faf-287c-4079-9599-39785fd70c0a"
      },
      "source": [
        "d ata.date_num.head()"
      ],
      "execution_count": null,
      "outputs": [
        {
          "output_type": "execute_result",
          "data": {
            "text/plain": [
              "15117    26\n",
              "15118    27\n",
              "15123    32\n",
              "15124    33\n",
              "15125    34\n",
              "Name: date_num, dtype: int64"
            ]
          },
          "metadata": {
            "tags": []
          },
          "execution_count": 30
        }
      ]
    },
    {
      "cell_type": "code",
      "metadata": {
        "colab": {
          "base_uri": "https://localhost:8080/"
        },
        "id": "bJLpGiapNoIf",
        "outputId": "8e351768-81a4-432b-ecba-c0be538a987e"
      },
      "source": [
        "data.info()\n"
      ],
      "execution_count": null,
      "outputs": [
        {
          "output_type": "stream",
          "text": [
            "<class 'pandas.core.frame.DataFrame'>\n",
            "Int64Index: 107 entries, 15117 to 15229\n",
            "Data columns (total 15 columns):\n",
            " #   Column                               Non-Null Count  Dtype         \n",
            "---  ------                               --------------  -----         \n",
            " 0   country                              107 non-null    object        \n",
            " 1   iso_code                             107 non-null    object        \n",
            " 2   date                                 107 non-null    datetime64[ns]\n",
            " 3   total_vaccinations                   107 non-null    float64       \n",
            " 4   people_vaccinated                    107 non-null    float64       \n",
            " 5   people_fully_vaccinated              107 non-null    float64       \n",
            " 6   daily_vaccinations_raw               107 non-null    float64       \n",
            " 7   daily_vaccinations                   107 non-null    float64       \n",
            " 8   total_vaccinations_per_hundred       107 non-null    float64       \n",
            " 9   people_vaccinated_per_hundred        107 non-null    float64       \n",
            " 10  people_fully_vaccinated_per_hundred  107 non-null    float64       \n",
            " 11  daily_vaccinations_per_million       107 non-null    float64       \n",
            " 12  vaccines                             107 non-null    object        \n",
            " 13  source_name                          107 non-null    object        \n",
            " 14  date_num                             107 non-null    int64         \n",
            "dtypes: datetime64[ns](1), float64(9), int64(1), object(4)\n",
            "memory usage: 13.4+ KB\n"
          ],
          "name": "stdout"
        }
      ]
    },
    {
      "cell_type": "code",
      "metadata": {
        "colab": {
          "base_uri": "https://localhost:8080/",
          "height": 477
        },
        "id": "wFgnrZkaN1pf",
        "outputId": "16f8f418-cf89-4999-e350-f39e52dc8c1d"
      },
      "source": [
        "data.head()"
      ],
      "execution_count": null,
      "outputs": [
        {
          "output_type": "execute_result",
          "data": {
            "text/html": [
              "<div>\n",
              "<style scoped>\n",
              "    .dataframe tbody tr th:only-of-type {\n",
              "        vertical-align: middle;\n",
              "    }\n",
              "\n",
              "    .dataframe tbody tr th {\n",
              "        vertical-align: top;\n",
              "    }\n",
              "\n",
              "    .dataframe thead th {\n",
              "        text-align: right;\n",
              "    }\n",
              "</style>\n",
              "<table border=\"1\" class=\"dataframe\">\n",
              "  <thead>\n",
              "    <tr style=\"text-align: right;\">\n",
              "      <th></th>\n",
              "      <th>country</th>\n",
              "      <th>iso_code</th>\n",
              "      <th>date</th>\n",
              "      <th>total_vaccinations</th>\n",
              "      <th>people_vaccinated</th>\n",
              "      <th>people_fully_vaccinated</th>\n",
              "      <th>daily_vaccinations_raw</th>\n",
              "      <th>daily_vaccinations</th>\n",
              "      <th>total_vaccinations_per_hundred</th>\n",
              "      <th>people_vaccinated_per_hundred</th>\n",
              "      <th>people_fully_vaccinated_per_hundred</th>\n",
              "      <th>daily_vaccinations_per_million</th>\n",
              "      <th>vaccines</th>\n",
              "      <th>source_name</th>\n",
              "      <th>date_num</th>\n",
              "    </tr>\n",
              "  </thead>\n",
              "  <tbody>\n",
              "    <tr>\n",
              "      <th>15117</th>\n",
              "      <td>United States</td>\n",
              "      <td>USA</td>\n",
              "      <td>2021-01-14</td>\n",
              "      <td>11148991.0</td>\n",
              "      <td>9690757.0</td>\n",
              "      <td>1342086.0</td>\n",
              "      <td>870529.0</td>\n",
              "      <td>747082.0</td>\n",
              "      <td>3.33</td>\n",
              "      <td>2.90</td>\n",
              "      <td>0.40</td>\n",
              "      <td>2234.0</td>\n",
              "      <td>Johnson&amp;Johnson, Moderna, Pfizer/BioNTech</td>\n",
              "      <td>Centers for Disease Control and Prevention</td>\n",
              "      <td>26</td>\n",
              "    </tr>\n",
              "    <tr>\n",
              "      <th>15118</th>\n",
              "      <td>United States</td>\n",
              "      <td>USA</td>\n",
              "      <td>2021-01-15</td>\n",
              "      <td>12279180.0</td>\n",
              "      <td>10595866.0</td>\n",
              "      <td>1610524.0</td>\n",
              "      <td>1130189.0</td>\n",
              "      <td>798707.0</td>\n",
              "      <td>3.67</td>\n",
              "      <td>3.17</td>\n",
              "      <td>0.48</td>\n",
              "      <td>2388.0</td>\n",
              "      <td>Johnson&amp;Johnson, Moderna, Pfizer/BioNTech</td>\n",
              "      <td>Centers for Disease Control and Prevention</td>\n",
              "      <td>27</td>\n",
              "    </tr>\n",
              "    <tr>\n",
              "      <th>15123</th>\n",
              "      <td>United States</td>\n",
              "      <td>USA</td>\n",
              "      <td>2021-01-20</td>\n",
              "      <td>16525281.0</td>\n",
              "      <td>14270441.0</td>\n",
              "      <td>2161419.0</td>\n",
              "      <td>817693.0</td>\n",
              "      <td>892403.0</td>\n",
              "      <td>4.94</td>\n",
              "      <td>4.27</td>\n",
              "      <td>0.65</td>\n",
              "      <td>2668.0</td>\n",
              "      <td>Johnson&amp;Johnson, Moderna, Pfizer/BioNTech</td>\n",
              "      <td>Centers for Disease Control and Prevention</td>\n",
              "      <td>32</td>\n",
              "    </tr>\n",
              "    <tr>\n",
              "      <th>15124</th>\n",
              "      <td>United States</td>\n",
              "      <td>USA</td>\n",
              "      <td>2021-01-21</td>\n",
              "      <td>17546374.0</td>\n",
              "      <td>15053257.0</td>\n",
              "      <td>2394961.0</td>\n",
              "      <td>1021093.0</td>\n",
              "      <td>913912.0</td>\n",
              "      <td>5.25</td>\n",
              "      <td>4.50</td>\n",
              "      <td>0.72</td>\n",
              "      <td>2733.0</td>\n",
              "      <td>Johnson&amp;Johnson, Moderna, Pfizer/BioNTech</td>\n",
              "      <td>Centers for Disease Control and Prevention</td>\n",
              "      <td>33</td>\n",
              "    </tr>\n",
              "    <tr>\n",
              "      <th>15125</th>\n",
              "      <td>United States</td>\n",
              "      <td>USA</td>\n",
              "      <td>2021-01-22</td>\n",
              "      <td>19107959.0</td>\n",
              "      <td>16243093.0</td>\n",
              "      <td>2756953.0</td>\n",
              "      <td>1561585.0</td>\n",
              "      <td>975540.0</td>\n",
              "      <td>5.71</td>\n",
              "      <td>4.86</td>\n",
              "      <td>0.82</td>\n",
              "      <td>2917.0</td>\n",
              "      <td>Johnson&amp;Johnson, Moderna, Pfizer/BioNTech</td>\n",
              "      <td>Centers for Disease Control and Prevention</td>\n",
              "      <td>34</td>\n",
              "    </tr>\n",
              "  </tbody>\n",
              "</table>\n",
              "</div>"
            ],
            "text/plain": [
              "             country  ... date_num\n",
              "15117  United States  ...       26\n",
              "15118  United States  ...       27\n",
              "15123  United States  ...       32\n",
              "15124  United States  ...       33\n",
              "15125  United States  ...       34\n",
              "\n",
              "[5 rows x 15 columns]"
            ]
          },
          "metadata": {
            "tags": []
          },
          "execution_count": 32
        }
      ]
    },
    {
      "cell_type": "code",
      "metadata": {
        "id": "rxUX4z2GAuVe",
        "colab": {
          "base_uri": "https://localhost:8080/",
          "height": 568
        },
        "outputId": "2f80c65d-afd5-4b11-a39e-e1bc48a77e4e"
      },
      "source": [
        "sns.pairplot(data[['total_vaccinations', 'daily_vaccinations','date',\n",
        "                  'people_fully_vaccinated']])\n"
      ],
      "execution_count": null,
      "outputs": [
        {
          "output_type": "execute_result",
          "data": {
            "text/plain": [
              "<seaborn.axisgrid.PairGrid at 0x7f983499b5d0>"
            ]
          },
          "metadata": {
            "tags": []
          },
          "execution_count": 33
        },
        {
          "output_type": "display_data",
          "data": {
            "image/png": "[encoded data removed]",
            "text/plain": [
              "<Figure size 540x540 with 12 Axes>"
            ]
          },
          "metadata": {
            "tags": [],
            "needs_background": "light"
          }
        }
      ]
    },
    {
      "cell_type": "code",
      "metadata": {
        "id": "YCtAyDTj4PoC",
        "colab": {
          "base_uri": "https://localhost:8080/",
          "height": 405
        },
        "outputId": "cae14883-db01-4763-9352-9299cfaaab8d"
      },
      "source": [
        "\n",
        "plt.figure(figsize=(12,6))\n",
        "data['daily_vaccinations'].hist(bins=40, color='green')"
      ],
      "execution_count": null,
      "outputs": [
        {
          "output_type": "execute_result",
          "data": {
            "text/plain": [
              "<matplotlib.axes._subplots.AxesSubplot at 0x7f982161c610>"
            ]
          },
          "metadata": {
            "tags": []
          },
          "execution_count": 79
        },
        {
          "output_type": "display_data",
          "data": {
            "image/png": "[encoded data removed]",
            "text/plain": [
              "<Figure size 864x432 with 1 Axes>"
            ]
          },
          "metadata": {
            "tags": [],
            "needs_background": "light"
          }
        }
      ]
    },
    {
      "cell_type": "code",
      "metadata": {
        "id": "RrLM912Ty2-2"
      },
      "source": [
        ""
      ],
      "execution_count": null,
      "outputs": []
    },
    {
      "cell_type": "code",
      "metadata": {
        "id": "pyjV6ammlLeu",
        "colab": {
          "base_uri": "https://localhost:8080/",
          "height": 466
        },
        "outputId": "35d8f792-ee15-417b-c4a5-388a271cfb33"
      },
      "source": [
        "sns.heatmap(data=data.corr())"
      ],
      "execution_count": null,
      "outputs": [
        {
          "output_type": "execute_result",
          "data": {
            "text/plain": [
              "<matplotlib.axes._subplots.AxesSubplot at 0x7f982bc868d0>"
            ]
          },
          "metadata": {
            "tags": []
          },
          "execution_count": 35
        },
        {
          "output_type": "display_data",
          "data": {
            "image/png": "[encoded data removed]",
            "text/plain": [
              "<Figure size 432x288 with 2 Axes>"
            ]
          },
          "metadata": {
            "tags": [],
            "needs_background": "light"
          }
        }
      ]
    },
    {
      "cell_type": "code",
      "metadata": {
        "id": "xWWJ-STolv5n",
        "colab": {
          "base_uri": "https://localhost:8080/"
        },
        "outputId": "b54de4c2-4d15-43d7-e7b6-7a5aea9fa3f5"
      },
      "source": [
        "data.info()"
      ],
      "execution_count": null,
      "outputs": [
        {
          "output_type": "stream",
          "text": [
            "<class 'pandas.core.frame.DataFrame'>\n",
            "Int64Index: 107 entries, 15117 to 15229\n",
            "Data columns (total 15 columns):\n",
            " #   Column                               Non-Null Count  Dtype         \n",
            "---  ------                               --------------  -----         \n",
            " 0   country                              107 non-null    object        \n",
            " 1   iso_code                             107 non-null    object        \n",
            " 2   date                                 107 non-null    datetime64[ns]\n",
            " 3   total_vaccinations                   107 non-null    float64       \n",
            " 4   people_vaccinated                    107 non-null    float64       \n",
            " 5   people_fully_vaccinated              107 non-null    float64       \n",
            " 6   daily_vaccinations_raw               107 non-null    float64       \n",
            " 7   daily_vaccinations                   107 non-null    float64       \n",
            " 8   total_vaccinations_per_hundred       107 non-null    float64       \n",
            " 9   people_vaccinated_per_hundred        107 non-null    float64       \n",
            " 10  people_fully_vaccinated_per_hundred  107 non-null    float64       \n",
            " 11  daily_vaccinations_per_million       107 non-null    float64       \n",
            " 12  vaccines                             107 non-null    object        \n",
            " 13  source_name                          107 non-null    object        \n",
            " 14  date_num                             107 non-null    int64         \n",
            "dtypes: datetime64[ns](1), float64(9), int64(1), object(4)\n",
            "memory usage: 13.4+ KB\n"
          ],
          "name": "stdout"
        }
      ]
    },
    {
      "cell_type": "code",
      "metadata": {
        "id": "z9z9b6Fml602",
        "colab": {
          "base_uri": "https://localhost:8080/"
        },
        "outputId": "783620c1-af28-4172-d28b-edf2199b3875"
      },
      "source": [
        "data.columns"
      ],
      "execution_count": null,
      "outputs": [
        {
          "output_type": "execute_result",
          "data": {
            "text/plain": [
              "Index(['country', 'iso_code', 'date', 'total_vaccinations',\n",
              "       'people_vaccinated', 'people_fully_vaccinated',\n",
              "       'daily_vaccinations_raw', 'daily_vaccinations',\n",
              "       'total_vaccinations_per_hundred', 'people_vaccinated_per_hundred',\n",
              "       'people_fully_vaccinated_per_hundred', 'daily_vaccinations_per_million',\n",
              "       'vaccines', 'source_name', 'date_num'],\n",
              "      dtype='object')"
            ]
          },
          "metadata": {
            "tags": []
          },
          "execution_count": 37
        }
      ]
    },
    {
      "cell_type": "markdown",
      "metadata": {
        "id": "qogqVqQiotX-"
      },
      "source": [
        "# Training our Linear Regression Model"
      ]
    },
    {
      "cell_type": "code",
      "metadata": {
        "id": "Nbdgper3oJYT"
      },
      "source": [
        "X = data[['people_fully_vaccinated',\n",
        "       'daily_vaccinations','date_num',\n",
        "       'total_vaccinations_per_hundred']]\n",
        "\n",
        "y = data['total_vaccinations']\n"
      ],
      "execution_count": null,
      "outputs": []
    },
    {
      "cell_type": "code",
      "metadata": {
        "id": "T6kQcwjIogSA"
      },
      "source": [
        "from sklearn.model_selection import train_test_split"
      ],
      "execution_count": null,
      "outputs": []
    },
    {
      "cell_type": "code",
      "metadata": {
        "id": "GKfGvLm1o1V6"
      },
      "source": [
        "X_train, X_test, y_train, y_test = train_test_split(X, \n",
        "                                                    y, \n",
        "                                                    test_size=0.2,\n",
        "                                                    random_state=101)\n"
      ],
      "execution_count": null,
      "outputs": []
    },
    {
      "cell_type": "markdown",
      "metadata": {
        "id": "bZOhV4LmpUU1"
      },
      "source": [
        "# Training the Model"
      ]
    },
    {
      "cell_type": "code",
      "metadata": {
        "id": "VRdCnRfHpRX8"
      },
      "source": [
        "from sklearn.linear_model import LinearRegression"
      ],
      "execution_count": null,
      "outputs": []
    },
    {
      "cell_type": "code",
      "metadata": {
        "id": "6byqRDYtpcbo",
        "colab": {
          "base_uri": "https://localhost:8080/"
        },
        "outputId": "e242bcfc-ae23-43e5-a9ac-7ae00274cde5"
      },
      "source": [
        "mod = LinearRegression(normalize=True)\n",
        "mod"
      ],
      "execution_count": null,
      "outputs": [
        {
          "output_type": "execute_result",
          "data": {
            "text/plain": [
              "LinearRegression(copy_X=True, fit_intercept=True, n_jobs=None, normalize=True)"
            ]
          },
          "metadata": {
            "tags": []
          },
          "execution_count": 42
        }
      ]
    },
    {
      "cell_type": "code",
      "metadata": {
        "id": "HasFBFLbpglE",
        "colab": {
          "base_uri": "https://localhost:8080/"
        },
        "outputId": "968cc43e-e214-4da7-e6a8-5fe4bc7da98a"
      },
      "source": [
        "mod.fit(X_train, y_train)"
      ],
      "execution_count": null,
      "outputs": [
        {
          "output_type": "execute_result",
          "data": {
            "text/plain": [
              "LinearRegression(copy_X=True, fit_intercept=True, n_jobs=None, normalize=True)"
            ]
          },
          "metadata": {
            "tags": []
          },
          "execution_count": 43
        }
      ]
    },
    {
      "cell_type": "markdown",
      "metadata": {
        "id": "H86yL9fSpv3u"
      },
      "source": [
        "# Model Evaluation"
      ]
    },
    {
      "cell_type": "markdown",
      "metadata": {
        "id": "SI-m11Hkp43W"
      },
      "source": [
        "# Let's evaluate the model by checking out it's coefficients and how we can interpret them."
      ]
    },
    {
      "cell_type": "code",
      "metadata": {
        "id": "-HFLlcbHpsUb",
        "colab": {
          "base_uri": "https://localhost:8080/"
        },
        "outputId": "f813d184-1e80-4e51-e114-8ab83d13d9c2"
      },
      "source": [
        "print(mod.intercept_)"
      ],
      "execution_count": null,
      "outputs": [
        {
          "output_type": "stream",
          "text": [
            "7817.771541386843\n"
          ],
          "name": "stdout"
        }
      ]
    },
    {
      "cell_type": "code",
      "metadata": {
        "id": "XLk2cCvkOyqO"
      },
      "source": [
        "predictions = mod.predict(X_test)\n"
      ],
      "execution_count": null,
      "outputs": []
    },
    {
      "cell_type": "code",
      "metadata": {
        "id": "EMc4yk3sxTcp",
        "colab": {
          "base_uri": "https://localhost:8080/",
          "height": 168
        },
        "outputId": "0d2a6593-089d-4703-fbeb-b1ed838b7948"
      },
      "source": [
        "coeff_df = pd.DataFrame(mod.coef_, X.columns, columns=['Coefficient'])\n",
        "coeff_df\n"
      ],
      "execution_count": null,
      "outputs": [
        {
          "output_type": "execute_result",
          "data": {
            "text/html": [
              "<div>\n",
              "<style scoped>\n",
              "    .dataframe tbody tr th:only-of-type {\n",
              "        vertical-align: middle;\n",
              "    }\n",
              "\n",
              "    .dataframe tbody tr th {\n",
              "        vertical-align: top;\n",
              "    }\n",
              "\n",
              "    .dataframe thead th {\n",
              "        text-align: right;\n",
              "    }\n",
              "</style>\n",
              "<table border=\"1\" class=\"dataframe\">\n",
              "  <thead>\n",
              "    <tr style=\"text-align: right;\">\n",
              "      <th></th>\n",
              "      <th>Coefficient</th>\n",
              "    </tr>\n",
              "  </thead>\n",
              "  <tbody>\n",
              "    <tr>\n",
              "      <th>people_fully_vaccinated</th>\n",
              "      <td>-8.065589e-04</td>\n",
              "    </tr>\n",
              "    <tr>\n",
              "      <th>daily_vaccinations</th>\n",
              "      <td>-6.460304e-03</td>\n",
              "    </tr>\n",
              "    <tr>\n",
              "      <th>date_num</th>\n",
              "      <td>-2.032784e+02</td>\n",
              "    </tr>\n",
              "    <tr>\n",
              "      <th>total_vaccinations_per_hundred</th>\n",
              "      <td>3.346092e+06</td>\n",
              "    </tr>\n",
              "  </tbody>\n",
              "</table>\n",
              "</div>"
            ],
            "text/plain": [
              "                                 Coefficient\n",
              "people_fully_vaccinated        -8.065589e-04\n",
              "daily_vaccinations             -6.460304e-03\n",
              "date_num                       -2.032784e+02\n",
              "total_vaccinations_per_hundred  3.346092e+06"
            ]
          },
          "metadata": {
            "tags": []
          },
          "execution_count": 46
        }
      ]
    },
    {
      "cell_type": "code",
      "metadata": {
        "id": "1dvlRMLHpCQd",
        "colab": {
          "base_uri": "https://localhost:8080/",
          "height": 708
        },
        "outputId": "2a1880c5-59ef-4415-eadc-e9daa0d11d19"
      },
      "source": [
        "data_pre = pd.DataFrame({'Actual': y_test,\n",
        "                     \"Predicted\": predictions})\n",
        "data_pre.sort_index(ascending=True)"
      ],
      "execution_count": null,
      "outputs": [
        {
          "output_type": "execute_result",
          "data": {
            "text/html": [
              "<div>\n",
              "<style scoped>\n",
              "    .dataframe tbody tr th:only-of-type {\n",
              "        vertical-align: middle;\n",
              "    }\n",
              "\n",
              "    .dataframe tbody tr th {\n",
              "        vertical-align: top;\n",
              "    }\n",
              "\n",
              "    .dataframe thead th {\n",
              "        text-align: right;\n",
              "    }\n",
              "</style>\n",
              "<table border=\"1\" class=\"dataframe\">\n",
              "  <thead>\n",
              "    <tr style=\"text-align: right;\">\n",
              "      <th></th>\n",
              "      <th>Actual</th>\n",
              "      <th>Predicted</th>\n",
              "    </tr>\n",
              "  </thead>\n",
              "  <tbody>\n",
              "    <tr>\n",
              "      <th>15118</th>\n",
              "      <td>12279180.0</td>\n",
              "      <td>1.227603e+07</td>\n",
              "    </tr>\n",
              "    <tr>\n",
              "      <th>15127</th>\n",
              "      <td>21848655.0</td>\n",
              "      <td>2.184064e+07</td>\n",
              "    </tr>\n",
              "    <tr>\n",
              "      <th>15134</th>\n",
              "      <td>31123299.0</td>\n",
              "      <td>3.113807e+07</td>\n",
              "    </tr>\n",
              "    <tr>\n",
              "      <th>15135</th>\n",
              "      <td>32222402.0</td>\n",
              "      <td>3.220820e+07</td>\n",
              "    </tr>\n",
              "    <tr>\n",
              "      <th>15137</th>\n",
              "      <td>33878254.0</td>\n",
              "      <td>3.388068e+07</td>\n",
              "    </tr>\n",
              "    <tr>\n",
              "      <th>15142</th>\n",
              "      <td>42417617.0</td>\n",
              "      <td>4.240881e+07</td>\n",
              "    </tr>\n",
              "    <tr>\n",
              "      <th>15146</th>\n",
              "      <td>48410558.0</td>\n",
              "      <td>4.842761e+07</td>\n",
              "    </tr>\n",
              "    <tr>\n",
              "      <th>15154</th>\n",
              "      <td>61289500.0</td>\n",
              "      <td>6.130462e+07</td>\n",
              "    </tr>\n",
              "    <tr>\n",
              "      <th>15155</th>\n",
              "      <td>63090634.0</td>\n",
              "      <td>6.307747e+07</td>\n",
              "    </tr>\n",
              "    <tr>\n",
              "      <th>15164</th>\n",
              "      <td>78631601.0</td>\n",
              "      <td>7.862596e+07</td>\n",
              "    </tr>\n",
              "    <tr>\n",
              "      <th>15166</th>\n",
              "      <td>82572848.0</td>\n",
              "      <td>8.257197e+07</td>\n",
              "    </tr>\n",
              "    <tr>\n",
              "      <th>15171</th>\n",
              "      <td>93692598.0</td>\n",
              "      <td>9.367581e+07</td>\n",
              "    </tr>\n",
              "    <tr>\n",
              "      <th>15177</th>\n",
              "      <td>109081860.0</td>\n",
              "      <td>1.090933e+08</td>\n",
              "    </tr>\n",
              "    <tr>\n",
              "      <th>15180</th>\n",
              "      <td>115730008.0</td>\n",
              "      <td>1.157153e+08</td>\n",
              "    </tr>\n",
              "    <tr>\n",
              "      <th>15181</th>\n",
              "      <td>118313818.0</td>\n",
              "      <td>1.183246e+08</td>\n",
              "    </tr>\n",
              "    <tr>\n",
              "      <th>15184</th>\n",
              "      <td>126509736.0</td>\n",
              "      <td>1.265193e+08</td>\n",
              "    </tr>\n",
              "    <tr>\n",
              "      <th>15188</th>\n",
              "      <td>136684688.0</td>\n",
              "      <td>1.366867e+08</td>\n",
              "    </tr>\n",
              "    <tr>\n",
              "      <th>15205</th>\n",
              "      <td>189692045.0</td>\n",
              "      <td>1.896945e+08</td>\n",
              "    </tr>\n",
              "    <tr>\n",
              "      <th>15211</th>\n",
              "      <td>209406814.0</td>\n",
              "      <td>2.093937e+08</td>\n",
              "    </tr>\n",
              "    <tr>\n",
              "      <th>15213</th>\n",
              "      <td>213388238.0</td>\n",
              "      <td>2.133747e+08</td>\n",
              "    </tr>\n",
              "    <tr>\n",
              "      <th>15219</th>\n",
              "      <td>230768454.0</td>\n",
              "      <td>2.307671e+08</td>\n",
              "    </tr>\n",
              "    <tr>\n",
              "      <th>15224</th>\n",
              "      <td>243463471.0</td>\n",
              "      <td>2.434764e+08</td>\n",
              "    </tr>\n",
              "  </tbody>\n",
              "</table>\n",
              "</div>"
            ],
            "text/plain": [
              "            Actual     Predicted\n",
              "15118   12279180.0  1.227603e+07\n",
              "15127   21848655.0  2.184064e+07\n",
              "15134   31123299.0  3.113807e+07\n",
              "15135   32222402.0  3.220820e+07\n",
              "15137   33878254.0  3.388068e+07\n",
              "15142   42417617.0  4.240881e+07\n",
              "15146   48410558.0  4.842761e+07\n",
              "15154   61289500.0  6.130462e+07\n",
              "15155   63090634.0  6.307747e+07\n",
              "15164   78631601.0  7.862596e+07\n",
              "15166   82572848.0  8.257197e+07\n",
              "15171   93692598.0  9.367581e+07\n",
              "15177  109081860.0  1.090933e+08\n",
              "15180  115730008.0  1.157153e+08\n",
              "15181  118313818.0  1.183246e+08\n",
              "15184  126509736.0  1.265193e+08\n",
              "15188  136684688.0  1.366867e+08\n",
              "15205  189692045.0  1.896945e+08\n",
              "15211  209406814.0  2.093937e+08\n",
              "15213  213388238.0  2.133747e+08\n",
              "15219  230768454.0  2.307671e+08\n",
              "15224  243463471.0  2.434764e+08"
            ]
          },
          "metadata": {
            "tags": []
          },
          "execution_count": 47
        }
      ]
    },
    {
      "cell_type": "code",
      "metadata": {
        "id": "wyG0yeotu2lU",
        "colab": {
          "base_uri": "https://localhost:8080/"
        },
        "outputId": "f868e0e4-34a1-40a9-98b2-b76d4c6bf4be"
      },
      "source": [
        "data_pre.Actual.head()"
      ],
      "execution_count": null,
      "outputs": [
        {
          "output_type": "execute_result",
          "data": {
            "text/plain": [
              "15180    115730008.0\n",
              "15142     42417617.0\n",
              "15118     12279180.0\n",
              "15166     82572848.0\n",
              "15137     33878254.0\n",
              "Name: Actual, dtype: float64"
            ]
          },
          "metadata": {
            "tags": []
          },
          "execution_count": 48
        }
      ]
    },
    {
      "cell_type": "code",
      "metadata": {
        "id": "bnH77qHWp6qr",
        "colab": {
          "base_uri": "https://localhost:8080/",
          "height": 295
        },
        "outputId": "9f061c46-4031-4a28-f131-6f0b2c73619e"
      },
      "source": [
        "data.plot(x='date_num', y='total_vaccinations', legend=False, rot=0)\n",
        "plt.title('days vs total_vaccinations')\n",
        "plt.xlabel('days')\n",
        "plt.ylabel('total_vaccinations')\n",
        "plt.show()\n"
      ],
      "execution_count": null,
      "outputs": [
        {
          "output_type": "display_data",
          "data": {
            "image/png": "[encoded data removed]",
            "text/plain": [
              "<Figure size 432x288 with 1 Axes>"
            ]
          },
          "metadata": {
            "tags": [],
            "needs_background": "light"
          }
        }
      ]
    },
    {
      "cell_type": "markdown",
      "metadata": {
        "id": "9yzHOamHQdtP"
      },
      "source": [
        "## Importing necessary librairies to check the data result"
      ]
    },
    {
      "cell_type": "code",
      "metadata": {
        "id": "TyiRRFItqDtt"
      },
      "source": [
        "from sklearn.metrics import mean_squared_error, r2_score, mean_absolute_error"
      ],
      "execution_count": null,
      "outputs": []
    },
    {
      "cell_type": "code",
      "metadata": {
        "id": "UyW_amAgOW5A",
        "colab": {
          "base_uri": "https://localhost:8080/"
        },
        "outputId": "61a88664-b1f5-4edf-c47a-f6b7756e7401"
      },
      "source": [
        "# The mean squared error\n",
        "print('Mean Squared error: %.2f'% mean_squared_error(y_test, predictions))"
      ],
      "execution_count": null,
      "outputs": [
        {
          "output_type": "stream",
          "text": [
            "Mean Squared error: 121570089.35\n"
          ],
          "name": "stdout"
        }
      ]
    },
    {
      "cell_type": "code",
      "metadata": {
        "id": "OPhZ1oV-Qz2A",
        "colab": {
          "base_uri": "https://localhost:8080/"
        },
        "outputId": "0d49f294-3ee7-4c0b-915c-81a8ff7fa70c"
      },
      "source": [
        "# The coefficient\n",
        "print(mod.coef_)"
      ],
      "execution_count": null,
      "outputs": [
        {
          "output_type": "stream",
          "text": [
            "[-8.06558926e-04 -6.46030380e-03 -2.03278403e+02  3.34609227e+06]\n"
          ],
          "name": "stdout"
        }
      ]
    },
    {
      "cell_type": "code",
      "metadata": {
        "id": "jeuUuWEcQu2f",
        "colab": {
          "base_uri": "https://localhost:8080/"
        },
        "outputId": "dbbdbad1-d64c-4cff-bd67-2f9c67998f89"
      },
      "source": [
        "# The coefficient of determination trying to get 1, perfect prediction\n",
        "print('Coefficient of determination: %.2f'% r2_score(y_test, predictions))"
      ],
      "execution_count": null,
      "outputs": [
        {
          "output_type": "stream",
          "text": [
            "Coefficient of determination: 1.00\n"
          ],
          "name": "stdout"
        }
      ]
    },
    {
      "cell_type": "markdown",
      "metadata": {
        "id": "49PmkFaL-uGh"
      },
      "source": [
        "## Cearting a scatterplot of the real test value vs the predicted values\n"
      ]
    },
    {
      "cell_type": "code",
      "metadata": {
        "id": "JLU9vwDHP5f6",
        "colab": {
          "base_uri": "https://localhost:8080/",
          "height": 308
        },
        "outputId": "3b32240f-3b7f-489a-a5d8-a9e48723c491"
      },
      "source": [
        "plt.xlabel('Y test')\n",
        "plt.ylabel('Predictions')\n",
        "\n",
        "plt.scatter(y_test, predictions)"
      ],
      "execution_count": null,
      "outputs": [
        {
          "output_type": "execute_result",
          "data": {
            "text/plain": [
              "<matplotlib.collections.PathCollection at 0x7f98296c6710>"
            ]
          },
          "metadata": {
            "tags": []
          },
          "execution_count": 54
        },
        {
          "output_type": "display_data",
          "data": {
            "image/png": "[encoded data removed]",
            "text/plain": [
              "<Figure size 432x288 with 1 Axes>"
            ]
          },
          "metadata": {
            "tags": [],
            "needs_background": "light"
          }
        }
      ]
    },
    {
      "cell_type": "markdown",
      "metadata": {
        "id": "eWF3D3_j_iWJ"
      },
      "source": [
        "# Evaluating the Model"
      ]
    },
    {
      "cell_type": "markdown",
      "metadata": {
        "id": "LqIqaGnZ_moB"
      },
      "source": [
        "## Let's Vealuate our model performance "
      ]
    },
    {
      "cell_type": "code",
      "metadata": {
        "id": "lYjZjV0QRqMI",
        "colab": {
          "base_uri": "https://localhost:8080/"
        },
        "outputId": "b879bab5-00c6-412d-923c-ca961f7977f8"
      },
      "source": [
        "from sklearn.metrics import mean_absolute_error, r2_score, mean_squared_error, explained_variance_score\n",
        "\n",
        "print('MAE:', mean_absolute_error(y_test, predictions))\n",
        "print('MAE:', mean_squared_error(y_test, predictions))\n",
        "print('MAE:', np.sqrt(mean_squared_error(y_test, predictions)))"
      ],
      "execution_count": null,
      "outputs": [
        {
          "output_type": "stream",
          "text": [
            "MAE: 9629.925912040371\n",
            "MAE: 121570089.35217942\n",
            "MAE: 11025.882701724131\n"
          ],
          "name": "stdout"
        }
      ]
    },
    {
      "cell_type": "code",
      "metadata": {
        "id": "OzXCd2V6ApE0",
        "colab": {
          "base_uri": "https://localhost:8080/"
        },
        "outputId": "b04de578-9d83-4d1a-f649-3d5ee3d005e5"
      },
      "source": [
        "print('Coefficient of determination: %.2f'% r2_score(y_test, predictions))"
      ],
      "execution_count": null,
      "outputs": [
        {
          "output_type": "stream",
          "text": [
            "Coefficient of determination: 1.00\n"
          ],
          "name": "stdout"
        }
      ]
    },
    {
      "cell_type": "code",
      "metadata": {
        "id": "3QqeF8p2A5Z1",
        "colab": {
          "base_uri": "https://localhost:8080/"
        },
        "outputId": "fd7ecc05-696d-49e3-fc2e-b672ffb1f9f0"
      },
      "source": [
        "print('Expained variance score:', explained_variance_score(y_test, predictions))"
      ],
      "execution_count": null,
      "outputs": [
        {
          "output_type": "stream",
          "text": [
            "Expained variance score: 0.9999999757808778\n"
          ],
          "name": "stdout"
        }
      ]
    },
    {
      "cell_type": "markdown",
      "metadata": {
        "id": "ySnzPa-GBUOy"
      },
      "source": [
        "# Residuals\n"
      ]
    },
    {
      "cell_type": "code",
      "metadata": {
        "id": "JJdf66-CBN3J",
        "colab": {
          "base_uri": "https://localhost:8080/",
          "height": 365
        },
        "outputId": "084c7a02-a37d-415e-e049-a32ab8968064"
      },
      "source": [
        "sns.distplot((y_test - predictions), bins=30)"
      ],
      "execution_count": null,
      "outputs": [
        {
          "output_type": "stream",
          "text": [
            "/usr/local/lib/python3.7/dist-packages/seaborn/distributions.py:2557: FutureWarning: `distplot` is a deprecated function and will be removed in a future version. Please adapt your code to use either `displot` (a figure-level function with similar flexibility) or `histplot` (an axes-level function for histograms).\n",
            "  warnings.warn(msg, FutureWarning)\n"
          ],
          "name": "stderr"
        },
        {
          "output_type": "execute_result",
          "data": {
            "text/plain": [
              "<matplotlib.axes._subplots.AxesSubplot at 0x7f9826402290>"
            ]
          },
          "metadata": {
            "tags": []
          },
          "execution_count": 58
        },
        {
          "output_type": "display_data",
          "data": {
            "image/png": "[encoded data removed]",
            "text/plain": [
              "<Figure size 432x288 with 1 Axes>"
            ]
          },
          "metadata": {
            "tags": [],
            "needs_background": "light"
          }
        }
      ]
    },
    {
      "cell_type": "markdown",
      "metadata": {
        "id": "WkwqUqLOBsP8"
      },
      "source": [
        "Conclusion"
      ]
    },
    {
      "cell_type": "code",
      "metadata": {
        "id": "JDu39DWKBiSN",
        "colab": {
          "base_uri": "https://localhost:8080/",
          "height": 168
        },
        "outputId": "e60ca2d5-7f91-4d01-9072-78856cabdc87"
      },
      "source": [
        "coeff = pd.DataFrame(mod.coef_, X.columns)\n",
        "\n",
        "coeff.columns = ['coefficient']\n",
        "coeff"
      ],
      "execution_count": null,
      "outputs": [
        {
          "output_type": "execute_result",
          "data": {
            "text/html": [
              "<div>\n",
              "<style scoped>\n",
              "    .dataframe tbody tr th:only-of-type {\n",
              "        vertical-align: middle;\n",
              "    }\n",
              "\n",
              "    .dataframe tbody tr th {\n",
              "        vertical-align: top;\n",
              "    }\n",
              "\n",
              "    .dataframe thead th {\n",
              "        text-align: right;\n",
              "    }\n",
              "</style>\n",
              "<table border=\"1\" class=\"dataframe\">\n",
              "  <thead>\n",
              "    <tr style=\"text-align: right;\">\n",
              "      <th></th>\n",
              "      <th>coefficient</th>\n",
              "    </tr>\n",
              "  </thead>\n",
              "  <tbody>\n",
              "    <tr>\n",
              "      <th>people_fully_vaccinated</th>\n",
              "      <td>-8.065589e-04</td>\n",
              "    </tr>\n",
              "    <tr>\n",
              "      <th>daily_vaccinations</th>\n",
              "      <td>-6.460304e-03</td>\n",
              "    </tr>\n",
              "    <tr>\n",
              "      <th>date_num</th>\n",
              "      <td>-2.032784e+02</td>\n",
              "    </tr>\n",
              "    <tr>\n",
              "      <th>total_vaccinations_per_hundred</th>\n",
              "      <td>3.346092e+06</td>\n",
              "    </tr>\n",
              "  </tbody>\n",
              "</table>\n",
              "</div>"
            ],
            "text/plain": [
              "                                 coefficient\n",
              "people_fully_vaccinated        -8.065589e-04\n",
              "daily_vaccinations             -6.460304e-03\n",
              "date_num                       -2.032784e+02\n",
              "total_vaccinations_per_hundred  3.346092e+06"
            ]
          },
          "metadata": {
            "tags": []
          },
          "execution_count": 59
        }
      ]
    },
    {
      "cell_type": "markdown",
      "metadata": {
        "id": "PpiJm3g4FC9L"
      },
      "source": [
        "Ploynomial Regression"
      ]
    },
    {
      "cell_type": "code",
      "metadata": {
        "id": "SCDRCjiPK_9F"
      },
      "source": [
        "X = data[['date_num']]\n",
        "y = data['total_vaccinations']"
      ],
      "execution_count": null,
      "outputs": []
    },
    {
      "cell_type": "code",
      "metadata": {
        "id": "zOVBI0xg9YBR"
      },
      "source": [
        "from sklearn.linear_model import LinearRegression"
      ],
      "execution_count": null,
      "outputs": []
    },
    {
      "cell_type": "code",
      "metadata": {
        "id": "jhCzbgGcRwBm"
      },
      "source": [
        "X_train, X_test, y_train, y_test = train_test_split(X, \n",
        "                                                    y, \n",
        "                                                    test_size=0.3, \n",
        "                                                    random_state=101)"
      ],
      "execution_count": null,
      "outputs": []
    },
    {
      "cell_type": "code",
      "metadata": {
        "id": "DIym6CX_9esE"
      },
      "source": [
        "lin = LinearRegression()"
      ],
      "execution_count": null,
      "outputs": []
    },
    {
      "cell_type": "code",
      "metadata": {
        "colab": {
          "base_uri": "https://localhost:8080/"
        },
        "id": "GUe5US2v9hw8",
        "outputId": "558d72d8-69b2-4fab-9a73-aa66e5ace27b"
      },
      "source": [
        "lin.fit(X, y)"
      ],
      "execution_count": null,
      "outputs": [
        {
          "output_type": "execute_result",
          "data": {
            "text/plain": [
              "LinearRegression(copy_X=True, fit_intercept=True, n_jobs=None, normalize=False)"
            ]
          },
          "metadata": {
            "tags": []
          },
          "execution_count": 64
        }
      ]
    },
    {
      "cell_type": "code",
      "metadata": {
        "id": "UnGBDeo-SgZG"
      },
      "source": [
        "pred = lin.predict(X_test)"
      ],
      "execution_count": null,
      "outputs": []
    },
    {
      "cell_type": "code",
      "metadata": {
        "id": "PnNPLY_SBpZF"
      },
      "source": [
        "from sklearn.preprocessing import PolynomialFeatures"
      ],
      "execution_count": null,
      "outputs": []
    },
    {
      "cell_type": "code",
      "metadata": {
        "id": "3EC0-hZfGGPO"
      },
      "source": [
        "poly = PolynomialFeatures(degree=4)\n",
        "X_poly = poly.fit_transform(X)"
      ],
      "execution_count": null,
      "outputs": []
    },
    {
      "cell_type": "code",
      "metadata": {
        "id": "CB_DTaBxFTUg",
        "colab": {
          "base_uri": "https://localhost:8080/"
        },
        "outputId": "00e30466-ed8b-44d5-e2eb-89462d53bbc3"
      },
      "source": [
        "poly.fit(X_poly, y)"
      ],
      "execution_count": null,
      "outputs": [
        {
          "output_type": "execute_result",
          "data": {
            "text/plain": [
              "PolynomialFeatures(degree=4, include_bias=True, interaction_only=False,\n",
              "                   order='C')"
            ]
          },
          "metadata": {
            "tags": []
          },
          "execution_count": 68
        }
      ]
    },
    {
      "cell_type": "code",
      "metadata": {
        "id": "2PLhw6lUGm3p"
      },
      "source": [
        "lin2 = LinearRegression()"
      ],
      "execution_count": null,
      "outputs": []
    },
    {
      "cell_type": "code",
      "metadata": {
        "id": "20Wq7nR--61N",
        "colab": {
          "base_uri": "https://localhost:8080/"
        },
        "outputId": "4c24fc84-0d43-4801-d603-eb7671dff8af"
      },
      "source": [
        "lin2.fit(X_poly, y)"
      ],
      "execution_count": null,
      "outputs": [
        {
          "output_type": "execute_result",
          "data": {
            "text/plain": [
              "LinearRegression(copy_X=True, fit_intercept=True, n_jobs=None, normalize=False)"
            ]
          },
          "metadata": {
            "tags": []
          },
          "execution_count": 70
        }
      ]
    },
    {
      "cell_type": "code",
      "metadata": {
        "colab": {
          "base_uri": "https://localhost:8080/",
          "height": 198
        },
        "id": "fqL8bRgfJWMi",
        "outputId": "b71a8644-c750-4523-dc83-03e4b786f47b"
      },
      "source": [
        "X_train.head()"
      ],
      "execution_count": null,
      "outputs": [
        {
          "output_type": "execute_result",
          "data": {
            "text/html": [
              "<div>\n",
              "<style scoped>\n",
              "    .dataframe tbody tr th:only-of-type {\n",
              "        vertical-align: middle;\n",
              "    }\n",
              "\n",
              "    .dataframe tbody tr th {\n",
              "        vertical-align: top;\n",
              "    }\n",
              "\n",
              "    .dataframe thead th {\n",
              "        text-align: right;\n",
              "    }\n",
              "</style>\n",
              "<table border=\"1\" class=\"dataframe\">\n",
              "  <thead>\n",
              "    <tr style=\"text-align: right;\">\n",
              "      <th></th>\n",
              "      <th>date_num</th>\n",
              "    </tr>\n",
              "  </thead>\n",
              "  <tbody>\n",
              "    <tr>\n",
              "      <th>15222</th>\n",
              "      <td>131</td>\n",
              "    </tr>\n",
              "    <tr>\n",
              "      <th>15160</th>\n",
              "      <td>69</td>\n",
              "    </tr>\n",
              "    <tr>\n",
              "      <th>15144</th>\n",
              "      <td>53</td>\n",
              "    </tr>\n",
              "    <tr>\n",
              "      <th>15147</th>\n",
              "      <td>56</td>\n",
              "    </tr>\n",
              "    <tr>\n",
              "      <th>15143</th>\n",
              "      <td>52</td>\n",
              "    </tr>\n",
              "  </tbody>\n",
              "</table>\n",
              "</div>"
            ],
            "text/plain": [
              "       date_num\n",
              "15222       131\n",
              "15160        69\n",
              "15144        53\n",
              "15147        56\n",
              "15143        52"
            ]
          },
          "metadata": {
            "tags": []
          },
          "execution_count": 71
        }
      ]
    },
    {
      "cell_type": "code",
      "metadata": {
        "colab": {
          "base_uri": "https://localhost:8080/",
          "height": 296
        },
        "id": "_wS7YXwe-MT0",
        "outputId": "82d32444-edf4-4736-81d6-e4e9ab36a08a"
      },
      "source": [
        "plt.scatter(X, y, color = 'blue')\n",
        "  \n",
        "plt.plot(X, lin.predict(X), color = 'red')\n",
        "plt.title('Linear Regression')\n",
        "plt.xlabel('date_num')\n",
        "plt.ylabel('total_vaccinations')\n",
        "  \n",
        "plt.show()"
      ],
      "execution_count": null,
      "outputs": [
        {
          "output_type": "display_data",
          "data": {
            "image/png": "[encoded data removed]",
            "text/plain": [
              "<Figure size 432x288 with 1 Axes>"
            ]
          },
          "metadata": {
            "tags": [],
            "needs_background": "light"
          }
        }
      ]
    },
    {
      "cell_type": "code",
      "metadata": {
        "colab": {
          "base_uri": "https://localhost:8080/",
          "height": 296
        },
        "id": "myliXd3C-exa",
        "outputId": "3481b698-a290-4f31-cb46-1395a333d773"
      },
      "source": [
        "plt.scatter(X, y, color = 'blue')\n",
        "  \n",
        "plt.plot(X, lin2.predict(poly.fit_transform(X)), color = 'red')\n",
        "plt.title('Polynomial Regression')\n",
        "plt.xlabel('date_num')\n",
        "plt.ylabel('total_vaccinations')\n",
        "  \n",
        "plt.show()"
      ],
      "execution_count": null,
      "outputs": [
        {
          "output_type": "display_data",
          "data": {
            "image/png": "[encoded data removed]",
            "text/plain": [
              "<Figure size 432x288 with 1 Axes>"
            ]
          },
          "metadata": {
            "tags": [],
            "needs_background": "light"
          }
        }
      ]
    },
    {
      "cell_type": "code",
      "metadata": {
        "colab": {
          "base_uri": "https://localhost:8080/",
          "height": 78
        },
        "id": "QYBF9UyI_yAr",
        "outputId": "c279c7ba-a196-45c6-d7aa-efb83a83b0aa"
      },
      "source": [
        "coeff2 = pd.DataFrame(lin.coef_, X.columns)\n",
        "\n",
        "coeff2.columns = ['coefficient']\n",
        "coeff2"
      ],
      "execution_count": null,
      "outputs": [
        {
          "output_type": "execute_result",
          "data": {
            "text/html": [
              "<div>\n",
              "<style scoped>\n",
              "    .dataframe tbody tr th:only-of-type {\n",
              "        vertical-align: middle;\n",
              "    }\n",
              "\n",
              "    .dataframe tbody tr th {\n",
              "        vertical-align: top;\n",
              "    }\n",
              "\n",
              "    .dataframe thead th {\n",
              "        text-align: right;\n",
              "    }\n",
              "</style>\n",
              "<table border=\"1\" class=\"dataframe\">\n",
              "  <thead>\n",
              "    <tr style=\"text-align: right;\">\n",
              "      <th></th>\n",
              "      <th>coefficient</th>\n",
              "    </tr>\n",
              "  </thead>\n",
              "  <tbody>\n",
              "    <tr>\n",
              "      <th>date_num</th>\n",
              "      <td>2.301664e+06</td>\n",
              "    </tr>\n",
              "  </tbody>\n",
              "</table>\n",
              "</div>"
            ],
            "text/plain": [
              "           coefficient\n",
              "date_num  2.301664e+06"
            ]
          },
          "metadata": {
            "tags": []
          },
          "execution_count": 74
        }
      ]
    },
    {
      "cell_type": "code",
      "metadata": {
        "colab": {
          "base_uri": "https://localhost:8080/"
        },
        "id": "27ZjKwqPNyxw",
        "outputId": "93228908-f69e-4dbe-a0fe-a7d86ee47710"
      },
      "source": [
        "print('Coefficient of determination: %.2f'% r2_score(y_test, pred))"
      ],
      "execution_count": null,
      "outputs": [
        {
          "output_type": "stream",
          "text": [
            "Coefficient of determination: 0.97\n"
          ],
          "name": "stdout"
        }
      ]
    },
    {
      "cell_type": "code",
      "metadata": {
        "colab": {
          "base_uri": "https://localhost:8080/"
        },
        "id": "Z7xLB2jDU_f_",
        "outputId": "7065e50b-d24f-4ee0-86d1-341dc0f070c1"
      },
      "source": [
        "print('Expained variance score:', explained_variance_score(y_test, pred))"
      ],
      "execution_count": null,
      "outputs": [
        {
          "output_type": "stream",
          "text": [
            "Expained variance score: 0.9703452179785119\n"
          ],
          "name": "stdout"
        }
      ]
    },
    {
      "cell_type": "code",
      "metadata": {
        "id": "hmAdB58UWLTu"
      },
      "source": [
        ""
      ],
      "execution_count": null,
      "outputs": []
    },
    {
      "cell_type": "markdown",
      "metadata": {
        "id": "8co1w1ANBAfb"
      },
      "source": [
        "**Yay!!! It is working** *I am proud of myself*"
      ]
    }
  ]
}