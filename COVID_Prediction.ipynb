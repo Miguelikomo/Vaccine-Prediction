# Draft
# **Final Project: Tracking covid-19 vaccination to predict when the United states will able to get back to Normal again.**
# Importing Needed Libraires for the project
import numpy as np
import pandas as pd
import seaborn as sns
import matplotlib.pyplot as plt
%matplotlib inline
import datetime as dt
# Loading the Dataset
url = '/content/country_vaccinations.csv'
df = pd.read_csv(url)
df.head()

# Exploring the Data 
#Checking the Dimension of the Data before 
df.shape
# Getting the basic info
df.describe()
df.tail()
df.columns

# How many countries are we dealing with?

df['country'].nunique()
# Let's check out the vaccines for a moment
df['vaccines'].value_counts()
df[['vaccines', 'country']].value_counts()
df.groupby('country').max()
# MAX_[MAX_['country']=='United States']
# MAX_['United States']
df['vaccines']
# Vaccine used the most
df['vaccines'].max()
df[df['vaccines']=='Moderna'].max()
## The origin of the Vaccine Sputnik V is Russia, developped by health ministry.

df[df['vaccines']=='Sputnik V'].value_counts().sum()

df.drop('source_website', axis=1, inplace=True)
df.head()
# Dropping the data with Nan values

df.dropna(inplace=True)
df.head()
# Vaccine with the least shots
df['vaccines'].min()
df[df['vaccines'] == 'Sinopharm/Beijing'].count().sum()
# How many vaccines have been developped

df['vaccines'].nunique()

#USA Data


data = df[df['country']== "United States"]
# 
data.head(10)
data.drop(['people_fully_vaccinated_per_hundred', 'iso_code','people_vaccinated'], axis=1).head()
# EDA
## Creating some simple plot to check out the Data
data.info()
print(df['date'].dtype)
data['date']= pd.to_datetime(data['date'])

data['date_num']=data['date'].map(dt.datetime.toordinal)

data.date_num=data["date_num"] - 737778

d ata.date_num.head()
data.info()

data.head()
sns.pairplot(data[['total_vaccinations', 'daily_vaccinations','date',
                  'people_fully_vaccinated']])


plt.figure(figsize=(12,6))
data['daily_vaccinations'].hist(bins=40, color='green')

sns.heatmap(data=data.corr())
data.info()
data.columns
# Training our Linear Regression Model
X = data[['people_fully_vaccinated',
       'daily_vaccinations','date_num',
       'total_vaccinations_per_hundred']]

y = data['total_vaccinations']

from sklearn.model_selection import train_test_split
X_train, X_test, y_train, y_test = train_test_split(X, 
                                                    y, 
                                                    test_size=0.2,
                                                    random_state=101)

# Training the Model
from sklearn.linear_model import LinearRegression
mod = LinearRegression(normalize=True)
mod
mod.fit(X_train, y_train)
# Model Evaluation
# Let's evaluate the model by checking out it's coefficients and how we can interpret them.
print(mod.intercept_)
predictions = mod.predict(X_test)

coeff_df = pd.DataFrame(mod.coef_, X.columns, columns=['Coefficient'])
coeff_df

data_pre = pd.DataFrame({'Actual': y_test,
                     "Predicted": predictions})
data_pre.sort_index(ascending=True)
data_pre.Actual.head()
data.plot(x='date_num', y='total_vaccinations', legend=False, rot=0)
plt.title('days vs total_vaccinations')
plt.xlabel('days')
plt.ylabel('total_vaccinations')
plt.show()

## Importing necessary librairies to check the data result
from sklearn.metrics import mean_squared_error, r2_score, mean_absolute_error
# The mean squared error
print('Mean Squared error: %.2f'% mean_squared_error(y_test, predictions))
# The coefficient
print(mod.coef_)
# The coefficient of determination trying to get 1, perfect prediction
print('Coefficient of determination: %.2f'% r2_score(y_test, predictions))
## Cearting a scatterplot of the real test value vs the predicted values

plt.xlabel('Y test')
plt.ylabel('Predictions')

plt.scatter(y_test, predictions)
# Evaluating the Model
## Let's Vealuate our model performance 
from sklearn.metrics import mean_absolute_error, r2_score, mean_squared_error, explained_variance_score

print('MAE:', mean_absolute_error(y_test, predictions))
print('MAE:', mean_squared_error(y_test, predictions))
print('MAE:', np.sqrt(mean_squared_error(y_test, predictions)))
print('Coefficient of determination: %.2f'% r2_score(y_test, predictions))
print('Expained variance score:', explained_variance_score(y_test, predictions))
# Residuals

sns.distplot((y_test - predictions), bins=30)
Conclusion
coeff = pd.DataFrame(mod.coef_, X.columns)

coeff.columns = ['coefficient']
coeff
Ploynomial Regression
X = data[['date_num']]
y = data['total_vaccinations']
from sklearn.linear_model import LinearRegression
X_train, X_test, y_train, y_test = train_test_split(X, 
                                                    y, 
                                                    test_size=0.3, 
                                                    random_state=101)
lin = LinearRegression()
lin.fit(X, y)
pred = lin.predict(X_test)
from sklearn.preprocessing import PolynomialFeatures
poly = PolynomialFeatures(degree=4)
X_poly = poly.fit_transform(X)
poly.fit(X_poly, y)
lin2 = LinearRegression()
lin2.fit(X_poly, y)
X_train.head()
plt.scatter(X, y, color = 'blue')
  
plt.plot(X, lin.predict(X), color = 'red')
plt.title('Linear Regression')
plt.xlabel('date_num')
plt.ylabel('total_vaccinations')
  
plt.show()
plt.scatter(X, y, color = 'blue')
  
plt.plot(X, lin2.predict(poly.fit_transform(X)), color = 'red')
plt.title('Polynomial Regression')
plt.xlabel('date_num')
plt.ylabel('total_vaccinations')
  
plt.show()
coeff2 = pd.DataFrame(lin.coef_, X.columns)

coeff2.columns = ['coefficient']
coeff2
print('Coefficient of determination: %.2f'% r2_score(y_test, pred))
print('Expained variance score:', explained_variance_score(y_test, pred))

**Yay!!! It is working** *I am proud of myself*
